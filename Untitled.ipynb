{
 "cells": [
  {
   "cell_type": "code",
   "execution_count": 1,
   "metadata": {
    "scrolled": true
   },
   "outputs": [
    {
     "name": "stderr",
     "output_type": "stream",
     "text": [
      "Using TensorFlow backend.\n",
      "C:\\Users\\lorie\\Anaconda3\\lib\\site-packages\\sklearn\\ensemble\\weight_boosting.py:29: DeprecationWarning: numpy.core.umath_tests is an internal NumPy module and should not be imported. It will be removed in a future NumPy release.\n",
      "  from numpy.core.umath_tests import inner1d\n",
      "C:\\Users\\lorie\\Anaconda3\\lib\\site-packages\\nltk\\twitter\\__init__.py:20: UserWarning: The twython library has not been installed. Some functionality from the twitter package will not be available.\n",
      "  warnings.warn(\"The twython library has not been installed. \"\n"
     ]
    }
   ],
   "source": [
    "import numpy as np\n",
    "import matplotlib.pyplot as plt\n",
    "# import seaborn as sns\n",
    "\n",
    "import pandas as pd\n",
    "import json\n",
    "\n",
    "import geopy\n",
    "from geopy import distance\n",
    "from geopy.distance import vincenty\n",
    "# from tqdm import tqdm\n",
    "# tqdm.pandas()\n",
    "import tensorflow as tf\n",
    "from keras.utils import to_categorical\n",
    "from sklearn.metrics import r2_score\n",
    "from sklearn.model_selection import train_test_split\n",
    "from sklearn.ensemble import GradientBoostingRegressor\n",
    "from sklearn.model_selection import RandomizedSearchCV\n",
    "from nltk.sentiment.vader import SentimentIntensityAnalyzer\n",
    "from collections import Counter\n",
    "from scipy import stats\n",
    "from dateutil import parser\n",
    "from sklearn.preprocessing import LabelEncoder, StandardScaler\n",
    "from sklearn.neighbors import KNeighborsClassifier\n",
    "from sklearn.tree import DecisionTreeClassifier\n",
    "from sklearn.ensemble import RandomForestClassifier\n",
    "from sklearn.naive_bayes import GaussianNB\n",
    "from sklearn.svm import SVC\n",
    "from sklearn.model_selection import KFold\n",
    "from sklearn.model_selection import cross_val_score\n",
    "k_fold = KFold(n_splits=10, shuffle=True, random_state=0)\n",
    "import numpy as np\n",
    "\n",
    "import eli5\n",
    "from eli5.sklearn import PermutationImportance\n",
    "# from skopt.space import Real\n",
    "import matplotlib.colors as clt\n",
    "import matplotlib as mpl\n",
    "from matplotlib.ticker import FuncFormatter\n",
    "import warnings\n",
    "warnings.filterwarnings(\"ignore\")\n",
    "import matplotlib.pyplot as plt\n",
    "# from tqdm import tqdm\n",
    "from sklearn.preprocessing import StandardScaler\n",
    "from sklearn.svm import NuSVR\n",
    "from sklearn.metrics import mean_absolute_error\n",
    "%matplotlib inline\n",
    "from keras.layers import Dense\n",
    "# Change pandas viewing options\n",
    "pd.set_option('display.max_rows', 500)\n",
    "pd.set_option('display.max_columns', 500)\n",
    "pd.set_option('display.width', 1000)\n",
    "import zipfile\n",
    "from keras.models import Sequential\n",
    "# zf = zipfile.ZipFile('train.csv') # having First.csv zipped file.\n",
    "# df = pd.read_csv(zf.open('First.csv'))\n",
    "# zf.namelist()"
   ]
  },
  {
   "cell_type": "code",
   "execution_count": 2,
   "metadata": {},
   "outputs": [],
   "source": [
    "# df = pd.read_csv(zf.open('seg_430e66.csv'))\n",
    "# df.head()\n"
   ]
  },
  {
   "cell_type": "code",
   "execution_count": 4,
   "metadata": {
    "scrolled": false
   },
   "outputs": [],
   "source": [
    "# df = pd.read_csv('train.csv.zip', dtype={'acoustic_data': np.int16, 'time_to_failure': np.float64})\n",
    "# df=pd.read_csv('train.csv.zip', nrows=5000000)\n",
    "df=pd.read_csv('train.csv', nrows=7000000)"
   ]
  },
  {
   "cell_type": "code",
   "execution_count": 5,
   "metadata": {
    "scrolled": true
   },
   "outputs": [
    {
     "data": {
      "text/html": [
       "<div>\n",
       "<style scoped>\n",
       "    .dataframe tbody tr th:only-of-type {\n",
       "        vertical-align: middle;\n",
       "    }\n",
       "\n",
       "    .dataframe tbody tr th {\n",
       "        vertical-align: top;\n",
       "    }\n",
       "\n",
       "    .dataframe thead th {\n",
       "        text-align: right;\n",
       "    }\n",
       "</style>\n",
       "<table border=\"1\" class=\"dataframe\">\n",
       "  <thead>\n",
       "    <tr style=\"text-align: right;\">\n",
       "      <th></th>\n",
       "      <th>acoustic_data</th>\n",
       "      <th>time_to_failure</th>\n",
       "    </tr>\n",
       "  </thead>\n",
       "  <tbody>\n",
       "    <tr>\n",
       "      <th>0</th>\n",
       "      <td>12</td>\n",
       "      <td>1.4690999832</td>\n",
       "    </tr>\n",
       "    <tr>\n",
       "      <th>1</th>\n",
       "      <td>6</td>\n",
       "      <td>1.4690999821</td>\n",
       "    </tr>\n",
       "    <tr>\n",
       "      <th>2</th>\n",
       "      <td>8</td>\n",
       "      <td>1.4690999810</td>\n",
       "    </tr>\n",
       "    <tr>\n",
       "      <th>3</th>\n",
       "      <td>5</td>\n",
       "      <td>1.4690999799</td>\n",
       "    </tr>\n",
       "    <tr>\n",
       "      <th>4</th>\n",
       "      <td>8</td>\n",
       "      <td>1.4690999788</td>\n",
       "    </tr>\n",
       "  </tbody>\n",
       "</table>\n",
       "</div>"
      ],
      "text/plain": [
       "   acoustic_data  time_to_failure\n",
       "0             12     1.4690999832\n",
       "1              6     1.4690999821\n",
       "2              8     1.4690999810\n",
       "3              5     1.4690999799\n",
       "4              8     1.4690999788"
      ]
     },
     "execution_count": 5,
     "metadata": {},
     "output_type": "execute_result"
    }
   ],
   "source": [
    "pd.options.display.precision = 15\n",
    "\n",
    "train = df\n",
    "train.head()"
   ]
  },
  {
   "cell_type": "code",
   "execution_count": 6,
   "metadata": {},
   "outputs": [],
   "source": [
    "\n",
    "rows = 10_000\n",
    "segments = int(np.floor(train.shape[0] / rows))\n",
    "\n",
    "X_train = pd.DataFrame(index=range(segments), dtype=np.float64,\n",
    "                       columns=['ave', 'std', 'max', 'min','cor','var', '25%', '50%', '75%'])\n",
    "#                        columns=['ave', 'std', 'max', 'min','cor','var'])\n",
    "y_train = pd.DataFrame(index=range(segments), dtype=np.float64,\n",
    "                       columns=['time_to_failure'])\n",
    "\n",
    "for segment in (range(segments)):\n",
    "    seg = train.iloc[segment*rows:segment*rows+rows]\n",
    "    x = seg['acoustic_data']\n",
    "    y = seg['time_to_failure'].values[-1]\n",
    "    \n",
    "    \n",
    "    y_train.loc[segment, 'time_to_failure'] = y\n",
    "    \n",
    "    X_train.loc[segment, 'ave'] = x.mean()\n",
    "    X_train.loc[segment, 'std'] = x.std()\n",
    "    X_train.loc[segment, 'max'] = x.max()\n",
    "    X_train.loc[segment, 'min'] = x.min()\n",
    "    X_train.loc[segment, 'cor'] = x.ptp()\n",
    "    X_train.loc[segment, 'var'] = x.var()\n",
    "    X_train.loc[segment, '25%'] = pd.Series(x).quantile(.25)\n",
    "    X_train.loc[segment, '50%'] = pd.Series(x).quantile(.5)\n",
    "    X_train.loc[segment, '75%'] = pd.Series(x).quantile(.75)\n",
    "    X_train['rol_2']=X_train['ave'].rolling(2).mean()\n",
    "    X_train['rol_3']=X_train['ave'].rolling(3).mean()\n",
    "    X_train['rol_4']=X_train['ave'].rolling(4).mean()\n",
    "    X_train['rol_5']=X_train['ave'].rolling(5).mean()\n",
    "    X_train['rol_10']=X_train['ave'].rolling(10).mean()\n",
    "\n",
    "    X_train['rol_2']=X_train['rol_2'].fillna(X_train['rol_2'].dropna().mean())\n",
    "    X_train['rol_3']=X_train['rol_2'].fillna(X_train['rol_3'].dropna().mean())\n",
    "    X_train['rol_4']=X_train['rol_4'].fillna(X_train['rol_4'].dropna().mean())\n",
    "    X_train['rol_5']=X_train['rol_5'].fillna(X_train['rol_5'].dropna().mean())\n",
    "    X_train['rol_10']=X_train['rol_10'].fillna(X_train['rol_10'].dropna().mean())\n",
    "\n",
    "    X_train['rol_std_2']=X_train['ave'].rolling(2).std()\n",
    "    X_train['rol_std_3']=X_train['ave'].rolling(3).std()\n",
    "    X_train['rol_std_4']=X_train['ave'].rolling(4).std()\n",
    "    X_train['rol_std_5']=X_train['ave'].rolling(5).std()\n",
    "    X_train['rol_std_2']=X_train['rol_std_2'].fillna(X_train['rol_std_2'].dropna().mean())\n",
    "    X_train['rol_std_3']=X_train['rol_std_3'].fillna(X_train['rol_std_3'].dropna().mean())\n",
    "    X_train['rol_std_4']=X_train['rol_std_4'].fillna(X_train['rol_std_4'].dropna().mean())\n",
    "    X_train['rol_std_5']=X_train['rol_std_5'].fillna(X_train['rol_std_5'].dropna().mean())\n",
    "    X_train['rol_max_2']=X_train['ave'].rolling(2).max()\n",
    "    X_train['rol_max_3']=X_train['ave'].rolling(3).max()\n",
    "    X_train['rol_max_4']=X_train['ave'].rolling(4).max()\n",
    "    X_train['rol_max_5']=X_train['ave'].rolling(5).max()\n",
    "    X_train['rol_max_2']=X_train['rol_max_2'].fillna(X_train['rol_max_2'].dropna().mean())\n",
    "    X_train['rol_max_3']=X_train['rol_max_3'].fillna(X_train['rol_max_3'].dropna().mean())\n",
    "    X_train['rol_max_4']=X_train['rol_max_4'].fillna(X_train['rol_max_4'].dropna().mean())\n",
    "    X_train['rol_max_5']=X_train['rol_max_5'].fillna(X_train['rol_max_5'].dropna().mean())\n",
    "    X_train['rol_min_2']=X_train['ave'].rolling(2).min()\n",
    "    X_train['rol_min_3']=X_train['ave'].rolling(3).min()\n",
    "    X_train['rol_min_4']=X_train['ave'].rolling(4).min()\n",
    "    X_train['rol_min_5']=X_train['ave'].rolling(5).min()\n",
    "    X_train['rol_min_2']=X_train['rol_min_2'].fillna(X_train['rol_min_2'].dropna().mean())\n",
    "    X_train['rol_min_3']=X_train['rol_min_3'].fillna(X_train['rol_min_3'].dropna().mean())\n",
    "    X_train['rol_min_4']=X_train['rol_min_4'].fillna(X_train['rol_min_4'].dropna().mean())\n",
    "    X_train['rol_min_5']=X_train['rol_min_5'].fillna(X_train['rol_min_5'].dropna().mean())\n",
    "\n",
    "\n",
    "\n",
    "\n"
   ]
  },
  {
   "cell_type": "code",
   "execution_count": null,
   "metadata": {},
   "outputs": [],
   "source": [
    "\n",
    "X_train.head()"
   ]
  },
  {
   "cell_type": "code",
   "execution_count": null,
   "metadata": {},
   "outputs": [],
   "source": []
  },
  {
   "cell_type": "code",
   "execution_count": null,
   "metadata": {},
   "outputs": [],
   "source": []
  },
  {
   "cell_type": "code",
   "execution_count": null,
   "metadata": {},
   "outputs": [],
   "source": [
    "X_train.head(-100)"
   ]
  },
  {
   "cell_type": "code",
   "execution_count": null,
   "metadata": {},
   "outputs": [],
   "source": [
    "X_train.min()"
   ]
  },
  {
   "cell_type": "code",
   "execution_count": null,
   "metadata": {},
   "outputs": [],
   "source": [
    "# label_encoder=LabelEncoder()\n",
    "# label_encoder.fit(X_train['ave'])\n",
    "# X_train['ave']=label_encoder.transform(X_train['ave'])\n",
    "# label_encoder.fit(X_train['std'])\n",
    "# X_train['std']=label_encoder.transform(X_train['std'])\n",
    "# label_encoder.fit(X_train['min'])\n",
    "# X_train['min']=label_encoder.transform(X_train['min'])\n",
    "# label_encoder.fit(X_train['max'])\n",
    "# X_train['max']=label_encoder.transform(X_train['max'])\n",
    "# label_encoder.fit(X_train['var'])\n",
    "# X_train['var']=label_encoder.transform(X_train['var'])\n",
    "# label_encoder.fit(X_train['cor'])\n",
    "# X_train['cor']=label_encoder.transform(X_train['cor'])"
   ]
  },
  {
   "cell_type": "code",
   "execution_count": null,
   "metadata": {},
   "outputs": [],
   "source": [
    "# x_train, x_test, y_train, y_test = train_test_split(X_train, y_train, test_size=.5)\n",
    "\n",
    "# x_scaler = StandardScaler()\n",
    "# x_train_scaled = x_scaler.fit_transform(x_train)\n",
    "# x_test_scaled = x_scaler.fit_transform(x_test)\n",
    "\n",
    "\n",
    "# # Step 1: Label-encode data set\n",
    "# label_encoder = LabelEncoder()\n",
    "# label_encoder.fit(y_train)\n",
    "# encoded_y_train = label_encoder.fit_transform(y_train)\n",
    "# encoded_y_test = label_encoder.fit_transform(y_test)\n",
    "# # y_scaler = StandardScaler()\n",
    "# # encoded_y_train = (y_train)\n",
    "# # encoded_y_test = (y_test)\n",
    "\n",
    "\n",
    "# # Step 2: Convert encoded labels to one-hot-encoding\n",
    "# y_binary = to_categorical(encoded_y_train)\n",
    "# y_test_categorical = to_categorical(encoded_y_test)\n",
    "# print(x_train_scaled.shape, y_train_categorical.shape)\n",
    "# print(x_test_scaled.shape, y_test_categorical.shape)"
   ]
  },
  {
   "cell_type": "code",
   "execution_count": 7,
   "metadata": {},
   "outputs": [],
   "source": [
    "scaler = StandardScaler()\n",
    "scaler.fit(X_train)\n",
    "X_train_scaled = scaler.transform(X_train)"
   ]
  },
  {
   "cell_type": "code",
   "execution_count": null,
   "metadata": {},
   "outputs": [],
   "source": [
    "#best as of 5-14 8:29pm\n",
    "# y_binary = to_categorical(y_train)\n",
    "# model = Sequential()\n",
    "# model.add(Dense(units=100, activation='tanh',input_dim=X_train_scaled.shape[1]))\n",
    "\n",
    "# model.add(Dense(units=1000, activation='tanh'))\n",
    "# model.add(Dense(units=100, activation='relu'))\n",
    "\n",
    "# model.add(Dense(units=100, activation='relu'))\n",
    "\n",
    "# model.add(Dense(units=y_binary.shape[1], activation='softmax'))\n",
    "\n",
    "# model.compile(\n",
    "#                 optimizer='adam',\n",
    "#               loss='categorical_crossentropy',\n",
    "#                  metrics=['accuracy', 'mean_absolute_error'])\n",
    "          "
   ]
  },
  {
   "cell_type": "code",
   "execution_count": null,
   "metadata": {},
   "outputs": [],
   "source": [
    "# best as of 5-14 8:33pm\n",
    "# y_binary = to_categorical(y_train)\n",
    "# model = Sequential()\n",
    "# model.add(Dense(units=100, activation='tanh',input_dim=X_train_scaled.shape[1]))\n",
    "\n",
    "# model.add(Dense(units=1000, activation='tanh'))\n",
    "# model.add(Dense(units=100, activation='relu'))\n",
    "\n",
    "# model.add(Dense(units=100, activation='relu'))\n",
    "\n",
    "# model.add(Dense(units=y_binary.shape[1], activation='softmax'))\n",
    "\n",
    "# model.compile(\n",
    "#                 optimizer='adam',\n",
    "#               loss='categorical_crossentropy',\n",
    "#                  metrics=['accuracy', 'mean_absolute_error'])\n",
    "          "
   ]
  },
  {
   "cell_type": "code",
   "execution_count": 8,
   "metadata": {},
   "outputs": [
    {
     "name": "stdout",
     "output_type": "stream",
     "text": [
      "WARNING:tensorflow:From C:\\Users\\lorie\\Anaconda3\\lib\\site-packages\\tensorflow\\python\\framework\\op_def_library.py:263: colocate_with (from tensorflow.python.framework.ops) is deprecated and will be removed in a future version.\n",
      "Instructions for updating:\n",
      "Colocations handled automatically by placer.\n"
     ]
    }
   ],
   "source": [
    "y_binary = to_categorical(y_train)\n",
    "model = Sequential()\n",
    "model.add(Dense(units=100, activation='tanh',input_dim=X_train_scaled.shape[1]))\n",
    "\n",
    "model.add(Dense(units=10000, activation='tanh'))\n",
    "model.add(Dense(units=100, activation='relu'))\n",
    "\n",
    "model.add(Dense(units=100, activation='relu'))\n",
    "\n",
    "model.add(Dense(units=y_binary.shape[1], activation='softmax'))\n",
    "\n",
    "model.compile(\n",
    "                optimizer='adam',\n",
    "              loss='categorical_crossentropy',\n",
    "                 metrics=['accuracy', 'mean_absolute_error'])"
   ]
  },
  {
   "cell_type": "code",
   "execution_count": 9,
   "metadata": {},
   "outputs": [
    {
     "name": "stdout",
     "output_type": "stream",
     "text": [
      "WARNING:tensorflow:From C:\\Users\\lorie\\Anaconda3\\lib\\site-packages\\tensorflow\\python\\ops\\math_ops.py:3066: to_int32 (from tensorflow.python.ops.math_ops) is deprecated and will be removed in a future version.\n",
      "Instructions for updating:\n",
      "Use tf.cast instead.\n",
      "Epoch 1/25\n",
      " - 1s - loss: 1.1324 - acc: 0.6286 - mean_absolute_error: 0.0826\n",
      "Epoch 2/25\n",
      " - 1s - loss: 0.6897 - acc: 0.7100 - mean_absolute_error: 0.0621\n",
      "Epoch 3/25\n",
      " - 1s - loss: 0.6118 - acc: 0.7400 - mean_absolute_error: 0.0574\n",
      "Epoch 4/25\n",
      " - 1s - loss: 0.5878 - acc: 0.7429 - mean_absolute_error: 0.0559\n",
      "Epoch 5/25\n",
      " - 1s - loss: 0.5584 - acc: 0.7600 - mean_absolute_error: 0.0531\n",
      "Epoch 6/25\n",
      " - 1s - loss: 0.5506 - acc: 0.7400 - mean_absolute_error: 0.0545\n",
      "Epoch 7/25\n",
      " - 1s - loss: 0.5519 - acc: 0.7729 - mean_absolute_error: 0.0521\n",
      "Epoch 8/25\n",
      " - 1s - loss: 0.4915 - acc: 0.7629 - mean_absolute_error: 0.0505\n",
      "Epoch 9/25\n",
      " - 1s - loss: 0.4923 - acc: 0.7829 - mean_absolute_error: 0.0474\n",
      "Epoch 10/25\n",
      " - 1s - loss: 0.4830 - acc: 0.7886 - mean_absolute_error: 0.0467\n",
      "Epoch 11/25\n",
      " - 1s - loss: 0.4471 - acc: 0.7957 - mean_absolute_error: 0.0446\n",
      "Epoch 12/25\n",
      " - 1s - loss: 0.4299 - acc: 0.8143 - mean_absolute_error: 0.0435\n",
      "Epoch 13/25\n",
      " - 1s - loss: 0.3852 - acc: 0.8286 - mean_absolute_error: 0.0401\n",
      "Epoch 14/25\n",
      " - 1s - loss: 0.3596 - acc: 0.8457 - mean_absolute_error: 0.0366\n",
      "Epoch 15/25\n",
      " - 1s - loss: 0.3775 - acc: 0.8271 - mean_absolute_error: 0.0388\n",
      "Epoch 16/25\n",
      " - 1s - loss: 0.4157 - acc: 0.8229 - mean_absolute_error: 0.0393\n",
      "Epoch 17/25\n",
      " - 1s - loss: 0.3616 - acc: 0.8429 - mean_absolute_error: 0.0370\n",
      "Epoch 18/25\n",
      " - 1s - loss: 0.3766 - acc: 0.8400 - mean_absolute_error: 0.0377\n",
      "Epoch 19/25\n",
      " - 1s - loss: 0.3427 - acc: 0.8357 - mean_absolute_error: 0.0357\n",
      "Epoch 20/25\n",
      " - 1s - loss: 0.3340 - acc: 0.8543 - mean_absolute_error: 0.0330\n",
      "Epoch 21/25\n",
      " - 1s - loss: 0.3060 - acc: 0.8700 - mean_absolute_error: 0.0317\n",
      "Epoch 22/25\n",
      " - 1s - loss: 0.3039 - acc: 0.8743 - mean_absolute_error: 0.0316\n",
      "Epoch 23/25\n",
      " - 1s - loss: 0.2936 - acc: 0.8743 - mean_absolute_error: 0.0297\n",
      "Epoch 24/25\n",
      " - 1s - loss: 0.2797 - acc: 0.8871 - mean_absolute_error: 0.0288\n",
      "Epoch 25/25\n",
      " - 1s - loss: 0.2956 - acc: 0.8871 - mean_absolute_error: 0.0285\n"
     ]
    },
    {
     "data": {
      "text/plain": [
       "<keras.callbacks.History at 0x19d9c753fd0>"
      ]
     },
     "execution_count": 9,
     "metadata": {},
     "output_type": "execute_result"
    }
   ],
   "source": [
    "model.fit(\n",
    "    X_train_scaled,\n",
    "    y_binary,\n",
    "    epochs=25,\n",
    "#     batch_size=10,\n",
    "    shuffle=True,\n",
    "    verbose=2\n",
    ")"
   ]
  },
  {
   "cell_type": "code",
   "execution_count": 10,
   "metadata": {},
   "outputs": [
    {
     "name": "stdout",
     "output_type": "stream",
     "text": [
      "700/700 [==============================] - 0s 244us/step\n"
     ]
    },
    {
     "data": {
      "text/plain": [
       "[0.22461209434483734, 0.9114285704067775, 0.0253217479493469]"
      ]
     },
     "execution_count": 10,
     "metadata": {},
     "output_type": "execute_result"
    }
   ],
   "source": [
    "model.evaluate(X_train_scaled, y_binary)"
   ]
  },
  {
   "cell_type": "code",
   "execution_count": 11,
   "metadata": {},
   "outputs": [],
   "source": [
    "submission = pd.read_csv('sample_submission.csv', index_col='seg_id')"
   ]
  },
  {
   "cell_type": "code",
   "execution_count": 12,
   "metadata": {},
   "outputs": [],
   "source": [
    "X_test = pd.DataFrame(columns=X_train.columns, dtype=np.float64, index=submission.index)"
   ]
  },
  {
   "cell_type": "code",
   "execution_count": 13,
   "metadata": {},
   "outputs": [],
   "source": [
    "for seg_id in X_test.index:\n",
    "    seg = pd.read_csv('test/' + seg_id + '.csv')\n",
    "    \n",
    "    x = seg['acoustic_data'].values\n",
    "    \n",
    "    X_test.loc[seg_id, 'ave'] = x.mean()\n",
    "    X_test.loc[seg_id, 'std'] = x.std()\n",
    "    X_test.loc[seg_id, 'max'] = x.max()\n",
    "    X_test.loc[seg_id, 'min'] = x.min()\n",
    "    X_test.loc[seg_id, 'cor'] = x.ptp()\n",
    "    X_test.loc[seg_id, 'var'] = x.var()\n",
    "    X_test.loc[seg_id, '25%'] = pd.Series(x).quantile(.25)\n",
    "    X_test.loc[seg_id, '50%'] = pd.Series(x).quantile(.5)\n",
    "    X_test.loc[seg_id, '75%'] = pd.Series(x).quantile(.75)\n",
    "    X_test['rol_2']=X_test['ave'].rolling(2).mean()\n",
    "    X_test['rol_3']=X_test['ave'].rolling(3).mean()\n",
    "    X_test['rol_4']=X_test['ave'].rolling(4).mean()\n",
    "    X_test['rol_5']=X_test['ave'].rolling(5).mean()\n",
    "    X_test['rol_10']=X_test['ave'].rolling(10).mean()\n",
    "\n",
    "    X_test['rol_2']=X_test['rol_2'].fillna(X_test['rol_2'].dropna().mean())\n",
    "    X_test['rol_3']=X_test['rol_2'].fillna(X_test['rol_3'].dropna().mean())\n",
    "    X_test['rol_4']=X_test['rol_4'].fillna(X_test['rol_4'].dropna().mean())\n",
    "    X_test['rol_5']=X_test['rol_5'].fillna(X_test['rol_5'].dropna().mean())\n",
    "    X_test['rol_10']=X_test['rol_10'].fillna(X_test['rol_10'].dropna().mean())\n",
    "\n",
    "    X_test['rol_std_2']=X_test['ave'].rolling(2).std()\n",
    "    X_test['rol_std_3']=X_test['ave'].rolling(3).std()\n",
    "    X_test['rol_std_4']=X_test['ave'].rolling(4).std()\n",
    "    X_test['rol_std_5']=X_test['ave'].rolling(5).std()\n",
    "    X_test['rol_std_2']=X_test['rol_std_2'].fillna(X_test['rol_std_2'].dropna().mean())\n",
    "    X_test['rol_std_3']=X_test['rol_std_3'].fillna(X_test['rol_std_3'].dropna().mean())\n",
    "    X_test['rol_std_4']=X_test['rol_std_4'].fillna(X_test['rol_std_4'].dropna().mean())\n",
    "    X_test['rol_std_5']=X_test['rol_std_5'].fillna(X_test['rol_std_5'].dropna().mean())\n",
    "    X_test['rol_max_2']=X_test['ave'].rolling(2).max()\n",
    "    X_test['rol_max_3']=X_test['ave'].rolling(3).max()\n",
    "    X_test['rol_max_4']=X_test['ave'].rolling(4).max()\n",
    "    X_test['rol_max_5']=X_test['ave'].rolling(5).max()\n",
    "    X_test['rol_max_2']=X_test['rol_max_2'].fillna(X_test['rol_max_2'].dropna().mean())\n",
    "    X_test['rol_max_3']=X_test['rol_max_3'].fillna(X_test['rol_max_3'].dropna().mean())\n",
    "    X_test['rol_max_4']=X_test['rol_max_4'].fillna(X_test['rol_max_4'].dropna().mean())\n",
    "    X_test['rol_max_5']=X_test['rol_max_5'].fillna(X_test['rol_max_5'].dropna().mean())\n",
    "    X_test['rol_min_2']=X_test['ave'].rolling(2).min()\n",
    "    X_test['rol_min_3']=X_test['ave'].rolling(3).min()\n",
    "    X_test['rol_min_4']=X_test['ave'].rolling(4).min()\n",
    "    X_test['rol_min_5']=X_test['ave'].rolling(5).min()\n",
    "    X_test['rol_min_2']=X_test['rol_min_2'].fillna(X_test['rol_min_2'].dropna().mean())\n",
    "    X_test['rol_min_3']=X_test['rol_min_3'].fillna(X_test['rol_min_3'].dropna().mean())\n",
    "    X_test['rol_min_4']=X_test['rol_min_4'].fillna(X_test['rol_min_4'].dropna().mean())\n",
    "    X_test['rol_min_5']=X_test['rol_min_5'].fillna(X_test['rol_min_5'].dropna().mean())\n"
   ]
  },
  {
   "cell_type": "code",
   "execution_count": 14,
   "metadata": {},
   "outputs": [
    {
     "data": {
      "text/plain": [
       "(2624, 26)"
      ]
     },
     "execution_count": 14,
     "metadata": {},
     "output_type": "execute_result"
    }
   ],
   "source": [
    "X_test.shape\n"
   ]
  },
  {
   "cell_type": "code",
   "execution_count": null,
   "metadata": {},
   "outputs": [],
   "source": [
    "# label_encoder=LabelEncoder()\n",
    "# label_encoder.fit(X_test['ave'])\n",
    "# X_test['ave']=label_encoder.transform(X_test['ave'])\n",
    "# label_encoder.fit(X_test['std'])\n",
    "# X_test['std']=label_encoder.transform(X_test['std'])\n",
    "# label_encoder.fit(X_test['min'])\n",
    "# X_test['min']=label_encoder.transform(X_test['min'])\n",
    "# label_encoder.fit(X_test['max'])\n",
    "# X_test['max']=label_encoder.transform(X_test['max'])\n",
    "# label_encoder.fit(X_test['var'])\n",
    "# X_test['var']=label_encoder.transform(X_test['var'])\n",
    "# label_encoder.fit(X_test['cor'])\n",
    "# X_test['cor']=label_encoder.transform(X_test['cor'])"
   ]
  },
  {
   "cell_type": "code",
   "execution_count": 15,
   "metadata": {},
   "outputs": [
    {
     "data": {
      "text/plain": [
       "(2624, 26)"
      ]
     },
     "execution_count": 15,
     "metadata": {},
     "output_type": "execute_result"
    }
   ],
   "source": [
    "X_test_scaled = scaler.transform(X_test)\n",
    "X_test_scaled.shape"
   ]
  },
  {
   "cell_type": "code",
   "execution_count": null,
   "metadata": {},
   "outputs": [],
   "source": []
  },
  {
   "cell_type": "code",
   "execution_count": 16,
   "metadata": {
    "scrolled": true
   },
   "outputs": [
    {
     "data": {
      "text/html": [
       "<div>\n",
       "<style scoped>\n",
       "    .dataframe tbody tr th:only-of-type {\n",
       "        vertical-align: middle;\n",
       "    }\n",
       "\n",
       "    .dataframe tbody tr th {\n",
       "        vertical-align: top;\n",
       "    }\n",
       "\n",
       "    .dataframe thead th {\n",
       "        text-align: right;\n",
       "    }\n",
       "</style>\n",
       "<table border=\"1\" class=\"dataframe\">\n",
       "  <thead>\n",
       "    <tr style=\"text-align: right;\">\n",
       "      <th></th>\n",
       "      <th>time_to_failure</th>\n",
       "    </tr>\n",
       "    <tr>\n",
       "      <th>seg_id</th>\n",
       "      <th></th>\n",
       "    </tr>\n",
       "  </thead>\n",
       "  <tbody>\n",
       "    <tr>\n",
       "      <th>seg_00030f</th>\n",
       "      <td>0.566707253456116</td>\n",
       "    </tr>\n",
       "    <tr>\n",
       "      <th>seg_0012b5</th>\n",
       "      <td>0.635593771934509</td>\n",
       "    </tr>\n",
       "    <tr>\n",
       "      <th>seg_00184e</th>\n",
       "      <td>0.230076640844345</td>\n",
       "    </tr>\n",
       "    <tr>\n",
       "      <th>seg_003339</th>\n",
       "      <td>0.015685314312577</td>\n",
       "    </tr>\n",
       "    <tr>\n",
       "      <th>seg_0042cc</th>\n",
       "      <td>0.016803162172437</td>\n",
       "    </tr>\n",
       "  </tbody>\n",
       "</table>\n",
       "</div>"
      ],
      "text/plain": [
       "              time_to_failure\n",
       "seg_id                       \n",
       "seg_00030f  0.566707253456116\n",
       "seg_0012b5  0.635593771934509\n",
       "seg_00184e  0.230076640844345\n",
       "seg_003339  0.015685314312577\n",
       "seg_0042cc  0.016803162172437"
      ]
     },
     "execution_count": 16,
     "metadata": {},
     "output_type": "execute_result"
    }
   ],
   "source": [
    "submission['time_to_failure'] = model.predict(X_test_scaled)\n",
    "submission.head()"
   ]
  },
  {
   "cell_type": "code",
   "execution_count": 17,
   "metadata": {},
   "outputs": [],
   "source": [
    "# submission.to_csv('submission.csv')"
   ]
  },
  {
   "cell_type": "code",
   "execution_count": 18,
   "metadata": {},
   "outputs": [
    {
     "name": "stdout",
     "output_type": "stream",
     "text": [
      "0.4072810411453247 1.0 1.0924964e-06\n"
     ]
    }
   ],
   "source": [
    "print(submission['time_to_failure'].mean(), submission['time_to_failure'].max(), submission['time_to_failure'].min())"
   ]
  },
  {
   "cell_type": "code",
   "execution_count": null,
   "metadata": {},
   "outputs": [],
   "source": [
    "print(submission['time_to_failure'].mean(), submission['time_to_failure'].max(), submission['time_to_failure'].min())"
   ]
  },
  {
   "cell_type": "code",
   "execution_count": 19,
   "metadata": {},
   "outputs": [],
   "source": [
    "submission.to_csv('submission.csv')"
   ]
  },
  {
   "cell_type": "code",
   "execution_count": null,
   "metadata": {},
   "outputs": [],
   "source": []
  }
 ],
 "metadata": {
  "kernelspec": {
   "display_name": "Python 3",
   "language": "python",
   "name": "python3"
  },
  "language_info": {
   "codemirror_mode": {
    "name": "ipython",
    "version": 3
   },
   "file_extension": ".py",
   "mimetype": "text/x-python",
   "name": "python",
   "nbconvert_exporter": "python",
   "pygments_lexer": "ipython3",
   "version": "3.7.0"
  }
 },
 "nbformat": 4,
 "nbformat_minor": 2
}
