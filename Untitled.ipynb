{
 "cells": [
  {
   "cell_type": "code",
   "execution_count": 1,
   "metadata": {
    "scrolled": true
   },
   "outputs": [
    {
     "name": "stderr",
     "output_type": "stream",
     "text": [
      "Using TensorFlow backend.\n"
     ]
    }
   ],
   "source": [
    "import numpy as np\n",
    "import matplotlib.pyplot as plt\n",
    "# import seaborn as sns\n",
    "\n",
    "import pandas as pd\n",
    "import json\n",
    "\n",
    "import geopy\n",
    "from geopy import distance\n",
    "from geopy.distance import vincenty\n",
    "# from tqdm import tqdm\n",
    "# tqdm.pandas()\n",
    "import tensorflow as tf\n",
    "from keras.utils import to_categorical\n",
    "from sklearn.metrics import r2_score\n",
    "from sklearn.model_selection import train_test_split\n",
    "from sklearn.ensemble import GradientBoostingRegressor\n",
    "from sklearn.model_selection import RandomizedSearchCV\n",
    "from nltk.sentiment.vader import SentimentIntensityAnalyzer\n",
    "from collections import Counter\n",
    "from scipy import stats\n",
    "from dateutil import parser\n",
    "from sklearn.preprocessing import LabelEncoder, StandardScaler\n",
    "from sklearn.neighbors import KNeighborsClassifier\n",
    "from sklearn.tree import DecisionTreeClassifier\n",
    "from sklearn.ensemble import RandomForestClassifier\n",
    "from sklearn.naive_bayes import GaussianNB\n",
    "from sklearn.svm import SVC\n",
    "from sklearn.model_selection import KFold\n",
    "from sklearn.model_selection import cross_val_score\n",
    "k_fold = KFold(n_splits=10, shuffle=True, random_state=0)\n",
    "import numpy as np\n",
    "\n",
    "import eli5\n",
    "from eli5.sklearn import PermutationImportance\n",
    "# from skopt.space import Real\n",
    "import matplotlib.colors as clt\n",
    "import matplotlib as mpl\n",
    "from matplotlib.ticker import FuncFormatter\n",
    "import warnings\n",
    "warnings.filterwarnings(\"ignore\")\n",
    "import matplotlib.pyplot as plt\n",
    "# from tqdm import tqdm\n",
    "from sklearn.preprocessing import StandardScaler\n",
    "from sklearn.svm import NuSVR\n",
    "from sklearn.metrics import mean_absolute_error\n",
    "%matplotlib inline\n",
    "from keras.layers import Dense\n",
    "# Change pandas viewing options\n",
    "pd.set_option('display.max_rows', 500)\n",
    "pd.set_option('display.max_columns', 500)\n",
    "pd.set_option('display.width', 1000)\n",
    "import zipfile\n",
    "from keras.models import Sequential\n",
    "# zf = zipfile.ZipFile('train.csv') # having First.csv zipped file.\n",
    "# df = pd.read_csv(zf.open('First.csv'))\n",
    "# zf.namelist()"
   ]
  },
  {
   "cell_type": "code",
   "execution_count": 2,
   "metadata": {},
   "outputs": [],
   "source": [
    "# df = pd.read_csv(zf.open('seg_430e66.csv'))\n",
    "# df.head()\n"
   ]
  },
  {
   "cell_type": "code",
   "execution_count": 3,
   "metadata": {
    "scrolled": false
   },
   "outputs": [],
   "source": [
    "# df = pd.read_csv('train.csv.zip', dtype={'acoustic_data': np.int16, 'time_to_failure': np.float64})\n",
    "df=pd.read_csv('train.csv.zip', nrows=5000000)"
   ]
  },
  {
   "cell_type": "code",
   "execution_count": 4,
   "metadata": {},
   "outputs": [
    {
     "data": {
      "text/html": [
       "<div>\n",
       "<style scoped>\n",
       "    .dataframe tbody tr th:only-of-type {\n",
       "        vertical-align: middle;\n",
       "    }\n",
       "\n",
       "    .dataframe tbody tr th {\n",
       "        vertical-align: top;\n",
       "    }\n",
       "\n",
       "    .dataframe thead th {\n",
       "        text-align: right;\n",
       "    }\n",
       "</style>\n",
       "<table border=\"1\" class=\"dataframe\">\n",
       "  <thead>\n",
       "    <tr style=\"text-align: right;\">\n",
       "      <th></th>\n",
       "      <th>acoustic_data</th>\n",
       "      <th>time_to_failure</th>\n",
       "    </tr>\n",
       "  </thead>\n",
       "  <tbody>\n",
       "    <tr>\n",
       "      <th>0</th>\n",
       "      <td>12</td>\n",
       "      <td>1.4690999832</td>\n",
       "    </tr>\n",
       "    <tr>\n",
       "      <th>1</th>\n",
       "      <td>6</td>\n",
       "      <td>1.4690999821</td>\n",
       "    </tr>\n",
       "    <tr>\n",
       "      <th>2</th>\n",
       "      <td>8</td>\n",
       "      <td>1.4690999810</td>\n",
       "    </tr>\n",
       "    <tr>\n",
       "      <th>3</th>\n",
       "      <td>5</td>\n",
       "      <td>1.4690999799</td>\n",
       "    </tr>\n",
       "    <tr>\n",
       "      <th>4</th>\n",
       "      <td>8</td>\n",
       "      <td>1.4690999788</td>\n",
       "    </tr>\n",
       "  </tbody>\n",
       "</table>\n",
       "</div>"
      ],
      "text/plain": [
       "   acoustic_data  time_to_failure\n",
       "0             12     1.4690999832\n",
       "1              6     1.4690999821\n",
       "2              8     1.4690999810\n",
       "3              5     1.4690999799\n",
       "4              8     1.4690999788"
      ]
     },
     "execution_count": 4,
     "metadata": {},
     "output_type": "execute_result"
    }
   ],
   "source": [
    "pd.options.display.precision = 15\n",
    "\n",
    "train = df\n",
    "train.head()"
   ]
  },
  {
   "cell_type": "code",
   "execution_count": 5,
   "metadata": {},
   "outputs": [],
   "source": [
    "\n",
    "rows = 10_000\n",
    "segments = int(np.floor(train.shape[0] / rows))\n",
    "\n",
    "X_train = pd.DataFrame(index=range(segments), dtype=np.float64,\n",
    "                       columns=['ave', 'std', 'max', 'min','cor','var', '25%', '50%', '75%'])\n",
    "#                        columns=['ave', 'std', 'max', 'min','cor','var'])\n",
    "y_train = pd.DataFrame(index=range(segments), dtype=np.float64,\n",
    "                       columns=['time_to_failure'])\n",
    "\n",
    "for segment in (range(segments)):\n",
    "    seg = train.iloc[segment*rows:segment*rows+rows]\n",
    "    x = seg['acoustic_data']\n",
    "    y = seg['time_to_failure'].values[-1]\n",
    "    \n",
    "    \n",
    "    y_train.loc[segment, 'time_to_failure'] = y\n",
    "    \n",
    "    X_train.loc[segment, 'ave'] = x.mean()\n",
    "    X_train.loc[segment, 'std'] = x.std()\n",
    "    X_train.loc[segment, 'max'] = x.max()\n",
    "    X_train.loc[segment, 'min'] = x.min()\n",
    "    X_train.loc[segment, 'cor'] = x.ptp()\n",
    "    X_train.loc[segment, 'var'] = x.var()\n",
    "    X_train.loc[segment, '25%'] = pd.Series(x).quantile(.25)\n",
    "    X_train.loc[segment, '50%'] = pd.Series(x).quantile(.5)\n",
    "    X_train.loc[segment, '75%'] = pd.Series(x).quantile(.75)\n",
    "#     X_train.loc[segment, 'rsum']= pd.Series(x).rolling(3).mean()"
   ]
  },
  {
   "cell_type": "code",
   "execution_count": 6,
   "metadata": {},
   "outputs": [],
   "source": [
    "X_train['rol_2']=X_train['ave'].rolling(2).mean()\n",
    "X_train['rol_3']=X_train['ave'].rolling(3).mean()\n",
    "X_train['rol_4']=X_train['ave'].rolling(4).mean()\n",
    "X_train['rol_5']=X_train['ave'].rolling(5).mean()\n",
    "X_train['rol_2']=X_train['rol_2'].fillna(X_train['rol_2'].dropna().mean())\n",
    "X_train['rol_3']=X_train['rol_2'].fillna(X_train['rol_3'].dropna().mean())\n",
    "X_train['rol_4']=X_train['rol_4'].fillna(X_train['rol_4'].dropna().mean())\n",
    "X_train['rol_5']=X_train['rol_5'].fillna(X_train['rol_5'].dropna().mean())\n",
    "X_train['rol_std_2']=X_train['ave'].rolling(2).std()\n",
    "X_train['rol_std_3']=X_train['ave'].rolling(3).std()\n",
    "X_train['rol_std_4']=X_train['ave'].rolling(4).std()\n",
    "X_train['rol_std_5']=X_train['ave'].rolling(5).std()\n",
    "X_train['rol_std_2']=X_train['rol_std_2'].fillna(X_train['rol_std_2'].dropna().mean())\n",
    "X_train['rol_std_3']=X_train['rol_std_3'].fillna(X_train['rol_std_3'].dropna().mean())\n",
    "X_train['rol_std_4']=X_train['rol_std_4'].fillna(X_train['rol_std_4'].dropna().mean())\n",
    "X_train['rol_std_5']=X_train['rol_std_5'].fillna(X_train['rol_std_5'].dropna().mean())\n"
   ]
  },
  {
   "cell_type": "code",
   "execution_count": null,
   "metadata": {},
   "outputs": [],
   "source": []
  },
  {
   "cell_type": "code",
   "execution_count": null,
   "metadata": {},
   "outputs": [],
   "source": []
  },
  {
   "cell_type": "code",
   "execution_count": 7,
   "metadata": {},
   "outputs": [
    {
     "data": {
      "text/html": [
       "<div>\n",
       "<style scoped>\n",
       "    .dataframe tbody tr th:only-of-type {\n",
       "        vertical-align: middle;\n",
       "    }\n",
       "\n",
       "    .dataframe tbody tr th {\n",
       "        vertical-align: top;\n",
       "    }\n",
       "\n",
       "    .dataframe thead th {\n",
       "        text-align: right;\n",
       "    }\n",
       "</style>\n",
       "<table border=\"1\" class=\"dataframe\">\n",
       "  <thead>\n",
       "    <tr style=\"text-align: right;\">\n",
       "      <th></th>\n",
       "      <th>ave</th>\n",
       "      <th>std</th>\n",
       "      <th>max</th>\n",
       "      <th>min</th>\n",
       "      <th>cor</th>\n",
       "      <th>var</th>\n",
       "      <th>25%</th>\n",
       "      <th>50%</th>\n",
       "      <th>75%</th>\n",
       "      <th>rol_2</th>\n",
       "      <th>rol_3</th>\n",
       "      <th>rol_4</th>\n",
       "      <th>rol_5</th>\n",
       "      <th>rol_std_2</th>\n",
       "      <th>rol_std_3</th>\n",
       "      <th>rol_std_4</th>\n",
       "      <th>rol_std_5</th>\n",
       "    </tr>\n",
       "  </thead>\n",
       "  <tbody>\n",
       "    <tr>\n",
       "      <th>0</th>\n",
       "      <td>5.1820</td>\n",
       "      <td>11.207151110947080</td>\n",
       "      <td>104.0</td>\n",
       "      <td>-98.0</td>\n",
       "      <td>202.0</td>\n",
       "      <td>125.600236023602363</td>\n",
       "      <td>2.0</td>\n",
       "      <td>5.0</td>\n",
       "      <td>8.0</td>\n",
       "      <td>4.588648096192385</td>\n",
       "      <td>4.588648096192385</td>\n",
       "      <td>4.588372434607640</td>\n",
       "      <td>4.588323870967742</td>\n",
       "      <td>0.102775632516862</td>\n",
       "      <td>0.123947320003575</td>\n",
       "      <td>0.133731060182765</td>\n",
       "      <td>0.141072652217328</td>\n",
       "    </tr>\n",
       "    <tr>\n",
       "      <th>1</th>\n",
       "      <td>4.9174</td>\n",
       "      <td>4.960084423046484</td>\n",
       "      <td>37.0</td>\n",
       "      <td>-23.0</td>\n",
       "      <td>60.0</td>\n",
       "      <td>24.602437483748375</td>\n",
       "      <td>2.0</td>\n",
       "      <td>5.0</td>\n",
       "      <td>7.0</td>\n",
       "      <td>5.049700000000000</td>\n",
       "      <td>5.049700000000000</td>\n",
       "      <td>4.588372434607640</td>\n",
       "      <td>4.588323870967742</td>\n",
       "      <td>0.187100454301961</td>\n",
       "      <td>0.123947320003575</td>\n",
       "      <td>0.133731060182765</td>\n",
       "      <td>0.141072652217328</td>\n",
       "    </tr>\n",
       "    <tr>\n",
       "      <th>2</th>\n",
       "      <td>4.9357</td>\n",
       "      <td>3.552045496994833</td>\n",
       "      <td>26.0</td>\n",
       "      <td>-16.0</td>\n",
       "      <td>42.0</td>\n",
       "      <td>12.617027212721272</td>\n",
       "      <td>3.0</td>\n",
       "      <td>5.0</td>\n",
       "      <td>7.0</td>\n",
       "      <td>4.926550000000000</td>\n",
       "      <td>4.926550000000000</td>\n",
       "      <td>4.588372434607640</td>\n",
       "      <td>4.588323870967742</td>\n",
       "      <td>0.012940054095710</td>\n",
       "      <td>0.147767689296409</td>\n",
       "      <td>0.133731060182765</td>\n",
       "      <td>0.141072652217328</td>\n",
       "    </tr>\n",
       "    <tr>\n",
       "      <th>3</th>\n",
       "      <td>4.9615</td>\n",
       "      <td>5.096843683256644</td>\n",
       "      <td>38.0</td>\n",
       "      <td>-24.0</td>\n",
       "      <td>62.0</td>\n",
       "      <td>25.977815531553151</td>\n",
       "      <td>2.0</td>\n",
       "      <td>5.0</td>\n",
       "      <td>8.0</td>\n",
       "      <td>4.948599999999999</td>\n",
       "      <td>4.948599999999999</td>\n",
       "      <td>4.999150000000000</td>\n",
       "      <td>4.588323870967742</td>\n",
       "      <td>0.018243354954612</td>\n",
       "      <td>0.022156037551868</td>\n",
       "      <td>0.123235019373553</td>\n",
       "      <td>0.141072652217328</td>\n",
       "    </tr>\n",
       "    <tr>\n",
       "      <th>4</th>\n",
       "      <td>4.8139</td>\n",
       "      <td>4.653260370235833</td>\n",
       "      <td>40.0</td>\n",
       "      <td>-35.0</td>\n",
       "      <td>75.0</td>\n",
       "      <td>21.652832073207325</td>\n",
       "      <td>2.0</td>\n",
       "      <td>5.0</td>\n",
       "      <td>7.0</td>\n",
       "      <td>4.887699999999999</td>\n",
       "      <td>4.887699999999999</td>\n",
       "      <td>4.907125000000001</td>\n",
       "      <td>4.962100000000000</td>\n",
       "      <td>0.104368960903133</td>\n",
       "      <td>0.078831719504269</td>\n",
       "      <td>0.064729301711046</td>\n",
       "      <td>0.135106124953682</td>\n",
       "    </tr>\n",
       "  </tbody>\n",
       "</table>\n",
       "</div>"
      ],
      "text/plain": [
       "      ave                 std    max   min    cor                  var  25%  50%  75%              rol_2              rol_3              rol_4              rol_5          rol_std_2          rol_std_3          rol_std_4          rol_std_5\n",
       "0  5.1820  11.207151110947080  104.0 -98.0  202.0  125.600236023602363  2.0  5.0  8.0  4.588648096192385  4.588648096192385  4.588372434607640  4.588323870967742  0.102775632516862  0.123947320003575  0.133731060182765  0.141072652217328\n",
       "1  4.9174   4.960084423046484   37.0 -23.0   60.0   24.602437483748375  2.0  5.0  7.0  5.049700000000000  5.049700000000000  4.588372434607640  4.588323870967742  0.187100454301961  0.123947320003575  0.133731060182765  0.141072652217328\n",
       "2  4.9357   3.552045496994833   26.0 -16.0   42.0   12.617027212721272  3.0  5.0  7.0  4.926550000000000  4.926550000000000  4.588372434607640  4.588323870967742  0.012940054095710  0.147767689296409  0.133731060182765  0.141072652217328\n",
       "3  4.9615   5.096843683256644   38.0 -24.0   62.0   25.977815531553151  2.0  5.0  8.0  4.948599999999999  4.948599999999999  4.999150000000000  4.588323870967742  0.018243354954612  0.022156037551868  0.123235019373553  0.141072652217328\n",
       "4  4.8139   4.653260370235833   40.0 -35.0   75.0   21.652832073207325  2.0  5.0  7.0  4.887699999999999  4.887699999999999  4.907125000000001  4.962100000000000  0.104368960903133  0.078831719504269  0.064729301711046  0.135106124953682"
      ]
     },
     "execution_count": 7,
     "metadata": {},
     "output_type": "execute_result"
    }
   ],
   "source": [
    "X_train.head()"
   ]
  },
  {
   "cell_type": "code",
   "execution_count": 8,
   "metadata": {},
   "outputs": [
    {
     "data": {
      "text/plain": [
       "ave             3.952200000000000\n",
       "std             2.861480918563800\n",
       "max            16.000000000000000\n",
       "min         -4621.000000000000000\n",
       "cor            24.000000000000000\n",
       "var             8.188073047304732\n",
       "25%           -38.000000000000000\n",
       "50%             4.000000000000000\n",
       "75%             6.000000000000000\n",
       "rol_2           3.993650000000001\n",
       "rol_3           3.993650000000001\n",
       "rol_4           4.100999999999999\n",
       "rol_5           4.138120000000002\n",
       "rol_std_2       0.000494974747591\n",
       "rol_std_3       0.005102940329251\n",
       "rol_std_4       0.019499978632467\n",
       "rol_std_5       0.035133858313554\n",
       "dtype: float64"
      ]
     },
     "execution_count": 8,
     "metadata": {},
     "output_type": "execute_result"
    }
   ],
   "source": [
    "X_train.min()"
   ]
  },
  {
   "cell_type": "code",
   "execution_count": 9,
   "metadata": {},
   "outputs": [],
   "source": [
    "# label_encoder=LabelEncoder()\n",
    "# label_encoder.fit(X_train['ave'])\n",
    "# X_train['ave']=label_encoder.transform(X_train['ave'])\n",
    "# label_encoder.fit(X_train['std'])\n",
    "# X_train['std']=label_encoder.transform(X_train['std'])\n",
    "# label_encoder.fit(X_train['min'])\n",
    "# X_train['min']=label_encoder.transform(X_train['min'])\n",
    "# label_encoder.fit(X_train['max'])\n",
    "# X_train['max']=label_encoder.transform(X_train['max'])\n",
    "# label_encoder.fit(X_train['var'])\n",
    "# X_train['var']=label_encoder.transform(X_train['var'])\n",
    "# label_encoder.fit(X_train['cor'])\n",
    "# X_train['cor']=label_encoder.transform(X_train['cor'])"
   ]
  },
  {
   "cell_type": "code",
   "execution_count": 10,
   "metadata": {},
   "outputs": [],
   "source": [
    "# x_train, x_test, y_train, y_test = train_test_split(X_train, y_train, test_size=.5)\n",
    "\n",
    "# x_scaler = StandardScaler()\n",
    "# x_train_scaled = x_scaler.fit_transform(x_train)\n",
    "# x_test_scaled = x_scaler.fit_transform(x_test)\n",
    "\n",
    "\n",
    "# # Step 1: Label-encode data set\n",
    "# label_encoder = LabelEncoder()\n",
    "# label_encoder.fit(y_train)\n",
    "# encoded_y_train = label_encoder.fit_transform(y_train)\n",
    "# encoded_y_test = label_encoder.fit_transform(y_test)\n",
    "# # y_scaler = StandardScaler()\n",
    "# # encoded_y_train = (y_train)\n",
    "# # encoded_y_test = (y_test)\n",
    "\n",
    "\n",
    "# # Step 2: Convert encoded labels to one-hot-encoding\n",
    "# y_binary = to_categorical(encoded_y_train)\n",
    "# y_test_categorical = to_categorical(encoded_y_test)\n",
    "# print(x_train_scaled.shape, y_train_categorical.shape)\n",
    "# print(x_test_scaled.shape, y_test_categorical.shape)"
   ]
  },
  {
   "cell_type": "code",
   "execution_count": 11,
   "metadata": {},
   "outputs": [],
   "source": [
    "scaler = StandardScaler()\n",
    "scaler.fit(X_train)\n",
    "X_train_scaled = scaler.transform(X_train)"
   ]
  },
  {
   "cell_type": "code",
   "execution_count": 12,
   "metadata": {},
   "outputs": [
    {
     "name": "stdout",
     "output_type": "stream",
     "text": [
      "WARNING:tensorflow:From c:\\users\\user\\miniconda3\\lib\\site-packages\\tensorflow\\python\\framework\\op_def_library.py:263: colocate_with (from tensorflow.python.framework.ops) is deprecated and will be removed in a future version.\n",
      "Instructions for updating:\n",
      "Colocations handled automatically by placer.\n"
     ]
    }
   ],
   "source": [
    "\n",
    "y_binary = to_categorical(y_train)\n",
    "# Create model and add layers\n",
    "model = Sequential()\n",
    "model.add(Dense(units=100, activation='tanh',input_dim=X_train_scaled.shape[1]))\n",
    "# model.add(Dense(units=100, activation='tanh',input_dim=X_train.shape[1]))\n",
    "\n",
    "model.add(Dense(units=1000, activation='tanh'))\n",
    "model.add(Dense(units=100, activation='relu'))\n",
    "\n",
    "model.add(Dense(units=100, activation='relu'))\n",
    "\n",
    "model.add(Dense(units=y_binary.shape[1], activation='softmax'))\n",
    "# model.add(Dense(units=y_train.shape[1], activation='softmax'))\n",
    "\n",
    "model.compile(\n",
    "                optimizer='adam',\n",
    "#                 optimizer='adadelta',\n",
    "              loss='categorical_crossentropy',\n",
    "#     loss='mse',\n",
    "                 metrics=['accuracy', 'mean_absolute_error'])\n",
    "#               metrics=['accuracy'])"
   ]
  },
  {
   "cell_type": "code",
   "execution_count": 13,
   "metadata": {},
   "outputs": [
    {
     "name": "stdout",
     "output_type": "stream",
     "text": [
      "WARNING:tensorflow:From c:\\users\\user\\miniconda3\\lib\\site-packages\\tensorflow\\python\\ops\\math_ops.py:3066: to_int32 (from tensorflow.python.ops.math_ops) is deprecated and will be removed in a future version.\n",
      "Instructions for updating:\n",
      "Use tf.cast instead.\n",
      "Epoch 1/25\n",
      " - 1s - loss: 0.4928 - acc: 0.7880 - mean_absolute_error: 0.3187\n",
      "Epoch 2/25\n",
      " - 0s - loss: 0.4395 - acc: 0.8220 - mean_absolute_error: 0.2563\n",
      "Epoch 3/25\n",
      " - 0s - loss: 0.4195 - acc: 0.8320 - mean_absolute_error: 0.2589\n",
      "Epoch 4/25\n",
      " - 0s - loss: 0.4086 - acc: 0.8240 - mean_absolute_error: 0.2671\n",
      "Epoch 5/25\n",
      " - 0s - loss: 0.4124 - acc: 0.8400 - mean_absolute_error: 0.2398\n",
      "Epoch 6/25\n",
      " - 0s - loss: 0.3777 - acc: 0.8520 - mean_absolute_error: 0.2539\n",
      "Epoch 7/25\n",
      " - 0s - loss: 0.3637 - acc: 0.8580 - mean_absolute_error: 0.2271\n",
      "Epoch 8/25\n",
      " - 0s - loss: 0.3568 - acc: 0.8640 - mean_absolute_error: 0.2273\n",
      "Epoch 9/25\n",
      " - 0s - loss: 0.3354 - acc: 0.8700 - mean_absolute_error: 0.2263\n",
      "Epoch 10/25\n",
      " - 0s - loss: 0.3308 - acc: 0.8620 - mean_absolute_error: 0.2009\n",
      "Epoch 11/25\n",
      " - 0s - loss: 0.3252 - acc: 0.8700 - mean_absolute_error: 0.2068\n",
      "Epoch 12/25\n",
      " - 0s - loss: 0.3276 - acc: 0.8580 - mean_absolute_error: 0.2152\n",
      "Epoch 13/25\n",
      " - 0s - loss: 0.3187 - acc: 0.8740 - mean_absolute_error: 0.2040\n",
      "Epoch 14/25\n",
      " - 0s - loss: 0.3194 - acc: 0.8640 - mean_absolute_error: 0.1994\n",
      "Epoch 15/25\n",
      " - 0s - loss: 0.2951 - acc: 0.8820 - mean_absolute_error: 0.1946\n",
      "Epoch 16/25\n",
      " - 0s - loss: 0.2785 - acc: 0.8960 - mean_absolute_error: 0.1811\n",
      "Epoch 17/25\n",
      " - 0s - loss: 0.2717 - acc: 0.8820 - mean_absolute_error: 0.1801\n",
      "Epoch 18/25\n",
      " - 0s - loss: 0.2525 - acc: 0.9000 - mean_absolute_error: 0.1652\n",
      "Epoch 19/25\n",
      " - 0s - loss: 0.2659 - acc: 0.9020 - mean_absolute_error: 0.1740\n",
      "Epoch 20/25\n",
      " - 0s - loss: 0.2565 - acc: 0.8920 - mean_absolute_error: 0.1641\n",
      "Epoch 21/25\n",
      " - 0s - loss: 0.2694 - acc: 0.8900 - mean_absolute_error: 0.1657\n",
      "Epoch 22/25\n",
      " - 0s - loss: 0.2180 - acc: 0.9120 - mean_absolute_error: 0.1505\n",
      "Epoch 23/25\n",
      " - 0s - loss: 0.2022 - acc: 0.9220 - mean_absolute_error: 0.1408\n",
      "Epoch 24/25\n",
      " - 0s - loss: 0.1762 - acc: 0.9320 - mean_absolute_error: 0.1243\n",
      "Epoch 25/25\n",
      " - 0s - loss: 0.1827 - acc: 0.9200 - mean_absolute_error: 0.1246\n"
     ]
    },
    {
     "data": {
      "text/plain": [
       "<keras.callbacks.History at 0x5993da0>"
      ]
     },
     "execution_count": 13,
     "metadata": {},
     "output_type": "execute_result"
    }
   ],
   "source": [
    "model.fit(\n",
    "    X_train_scaled,\n",
    "    y_binary,\n",
    "    epochs=25,\n",
    "#     batch_size=10,\n",
    "    shuffle=True,\n",
    "    verbose=2\n",
    ")"
   ]
  },
  {
   "cell_type": "code",
   "execution_count": null,
   "metadata": {},
   "outputs": [],
   "source": []
  },
  {
   "cell_type": "code",
   "execution_count": 14,
   "metadata": {},
   "outputs": [],
   "source": [
    "submission = pd.read_csv('sample_submission.csv', index_col='seg_id')"
   ]
  },
  {
   "cell_type": "code",
   "execution_count": 15,
   "metadata": {},
   "outputs": [],
   "source": [
    "X_test = pd.DataFrame(columns=X_train.columns, dtype=np.float64, index=submission.index)"
   ]
  },
  {
   "cell_type": "code",
   "execution_count": 16,
   "metadata": {},
   "outputs": [],
   "source": [
    "for seg_id in X_test.index:\n",
    "    seg = pd.read_csv('test/' + seg_id + '.csv')\n",
    "    \n",
    "    x = seg['acoustic_data'].values\n",
    "    \n",
    "    X_test.loc[seg_id, 'ave'] = x.mean()\n",
    "    X_test.loc[seg_id, 'std'] = x.std()\n",
    "    X_test.loc[seg_id, 'max'] = x.max()\n",
    "    X_test.loc[seg_id, 'min'] = x.min()\n",
    "    X_test.loc[seg_id, 'cor'] = x.ptp()\n",
    "    X_test.loc[seg_id, 'var'] = x.var()\n",
    "    X_test.loc[seg_id, '25%'] = pd.Series(x).quantile(.25)\n",
    "    X_test.loc[seg_id, '50%'] = pd.Series(x).quantile(.5)\n",
    "    X_test.loc[seg_id, '75%'] = pd.Series(x).quantile(.75)\n",
    "    X_test['rol_2']=X_test['ave'].rolling(2).mean()\n",
    "    X_test['rol_3']=X_test['ave'].rolling(3).mean()\n",
    "    X_test['rol_4']=X_test['ave'].rolling(4).mean()\n",
    "    X_test['rol_5']=X_test['ave'].rolling(5).mean()\n",
    "    X_test['rol_2']=X_test['rol_2'].fillna(X_test['rol_2'].dropna().mean())\n",
    "    X_test['rol_3']=X_test['rol_2'].fillna(X_test['rol_3'].dropna().mean())\n",
    "    X_test['rol_4']=X_test['rol_4'].fillna(X_test['rol_4'].dropna().mean())\n",
    "    X_test['rol_5']=X_test['rol_5'].fillna(X_test['rol_5'].dropna().mean())\n",
    "    X_test['rol_std_2']=X_test['ave'].rolling(2).std()\n",
    "    X_test['rol_std_3']=X_test['ave'].rolling(3).std()\n",
    "    X_test['rol_std_4']=X_test['ave'].rolling(4).std()\n",
    "    X_test['rol_std_5']=X_test['ave'].rolling(5).std()\n",
    "    X_test['rol_std_2']=X_test['rol_std_2'].fillna(X_test['rol_std_2'].dropna().mean())\n",
    "    X_test['rol_std_3']=X_test['rol_std_3'].fillna(X_test['rol_std_3'].dropna().mean())\n",
    "    X_test['rol_std_4']=X_test['rol_std_4'].fillna(X_test['rol_std_4'].dropna().mean())\n",
    "    X_test['rol_std_5']=X_test['rol_std_5'].fillna(X_test['rol_std_5'].dropna().mean())"
   ]
  },
  {
   "cell_type": "code",
   "execution_count": 17,
   "metadata": {},
   "outputs": [
    {
     "data": {
      "text/plain": [
       "(2624, 17)"
      ]
     },
     "execution_count": 17,
     "metadata": {},
     "output_type": "execute_result"
    }
   ],
   "source": [
    "X_test.shape\n"
   ]
  },
  {
   "cell_type": "code",
   "execution_count": 18,
   "metadata": {},
   "outputs": [],
   "source": [
    "# label_encoder=LabelEncoder()\n",
    "# label_encoder.fit(X_test['ave'])\n",
    "# X_test['ave']=label_encoder.transform(X_test['ave'])\n",
    "# label_encoder.fit(X_test['std'])\n",
    "# X_test['std']=label_encoder.transform(X_test['std'])\n",
    "# label_encoder.fit(X_test['min'])\n",
    "# X_test['min']=label_encoder.transform(X_test['min'])\n",
    "# label_encoder.fit(X_test['max'])\n",
    "# X_test['max']=label_encoder.transform(X_test['max'])\n",
    "# label_encoder.fit(X_test['var'])\n",
    "# X_test['var']=label_encoder.transform(X_test['var'])\n",
    "# label_encoder.fit(X_test['cor'])\n",
    "# X_test['cor']=label_encoder.transform(X_test['cor'])"
   ]
  },
  {
   "cell_type": "code",
   "execution_count": 19,
   "metadata": {},
   "outputs": [
    {
     "data": {
      "text/plain": [
       "(2624, 17)"
      ]
     },
     "execution_count": 19,
     "metadata": {},
     "output_type": "execute_result"
    }
   ],
   "source": [
    "X_test_scaled = scaler.transform(X_test)\n",
    "X_test_scaled.shape"
   ]
  },
  {
   "cell_type": "code",
   "execution_count": 20,
   "metadata": {
    "scrolled": true
   },
   "outputs": [
    {
     "data": {
      "text/html": [
       "<div>\n",
       "<style scoped>\n",
       "    .dataframe tbody tr th:only-of-type {\n",
       "        vertical-align: middle;\n",
       "    }\n",
       "\n",
       "    .dataframe tbody tr th {\n",
       "        vertical-align: top;\n",
       "    }\n",
       "\n",
       "    .dataframe thead th {\n",
       "        text-align: right;\n",
       "    }\n",
       "</style>\n",
       "<table border=\"1\" class=\"dataframe\">\n",
       "  <thead>\n",
       "    <tr style=\"text-align: right;\">\n",
       "      <th></th>\n",
       "      <th>time_to_failure</th>\n",
       "    </tr>\n",
       "    <tr>\n",
       "      <th>seg_id</th>\n",
       "      <th></th>\n",
       "    </tr>\n",
       "  </thead>\n",
       "  <tbody>\n",
       "    <tr>\n",
       "      <th>seg_00030f</th>\n",
       "      <td>0.595487654209137</td>\n",
       "    </tr>\n",
       "    <tr>\n",
       "      <th>seg_0012b5</th>\n",
       "      <td>0.864106655120850</td>\n",
       "    </tr>\n",
       "    <tr>\n",
       "      <th>seg_00184e</th>\n",
       "      <td>0.093969732522964</td>\n",
       "    </tr>\n",
       "    <tr>\n",
       "      <th>seg_003339</th>\n",
       "      <td>0.429661244153976</td>\n",
       "    </tr>\n",
       "    <tr>\n",
       "      <th>seg_0042cc</th>\n",
       "      <td>0.917425453662872</td>\n",
       "    </tr>\n",
       "  </tbody>\n",
       "</table>\n",
       "</div>"
      ],
      "text/plain": [
       "              time_to_failure\n",
       "seg_id                       \n",
       "seg_00030f  0.595487654209137\n",
       "seg_0012b5  0.864106655120850\n",
       "seg_00184e  0.093969732522964\n",
       "seg_003339  0.429661244153976\n",
       "seg_0042cc  0.917425453662872"
      ]
     },
     "execution_count": 20,
     "metadata": {},
     "output_type": "execute_result"
    }
   ],
   "source": [
    "submission['time_to_failure'] = model.predict(X_test_scaled)\n",
    "submission.head()"
   ]
  },
  {
   "cell_type": "code",
   "execution_count": 21,
   "metadata": {},
   "outputs": [],
   "source": [
    "# submission.to_csv('submission.csv')"
   ]
  },
  {
   "cell_type": "code",
   "execution_count": 22,
   "metadata": {},
   "outputs": [
    {
     "name": "stdout",
     "output_type": "stream",
     "text": [
      "0.7956647 0.99999094 0.016176367\n"
     ]
    }
   ],
   "source": [
    "print(submission['time_to_failure'].mean(), submission['time_to_failure'].max(), submission['time_to_failure'].min())"
   ]
  },
  {
   "cell_type": "code",
   "execution_count": 23,
   "metadata": {},
   "outputs": [
    {
     "name": "stdout",
     "output_type": "stream",
     "text": [
      "0.7956647 0.99999094 0.016176367\n"
     ]
    }
   ],
   "source": [
    "print(submission['time_to_failure'].mean(), submission['time_to_failure'].max(), submission['time_to_failure'].min())"
   ]
  },
  {
   "cell_type": "code",
   "execution_count": 24,
   "metadata": {},
   "outputs": [],
   "source": [
    "submission.to_csv('submission.csv')"
   ]
  },
  {
   "cell_type": "code",
   "execution_count": null,
   "metadata": {},
   "outputs": [],
   "source": []
  }
 ],
 "metadata": {
  "kernelspec": {
   "display_name": "Python 3",
   "language": "python",
   "name": "python3"
  },
  "language_info": {
   "codemirror_mode": {
    "name": "ipython",
    "version": 3
   },
   "file_extension": ".py",
   "mimetype": "text/x-python",
   "name": "python",
   "nbconvert_exporter": "python",
   "pygments_lexer": "ipython3",
   "version": "3.7.1"
  }
 },
 "nbformat": 4,
 "nbformat_minor": 2
}
