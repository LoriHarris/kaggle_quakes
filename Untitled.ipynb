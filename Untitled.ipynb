{
 "cells": [
  {
   "cell_type": "code",
   "execution_count": 1,
   "metadata": {
    "scrolled": true
   },
   "outputs": [
    {
     "name": "stderr",
     "output_type": "stream",
     "text": [
      "Using TensorFlow backend.\n"
     ]
    }
   ],
   "source": [
    "import numpy as np\n",
    "import matplotlib.pyplot as plt\n",
    "# import seaborn as sns\n",
    "\n",
    "import pandas as pd\n",
    "import json\n",
    "\n",
    "import geopy\n",
    "from geopy import distance\n",
    "from geopy.distance import vincenty\n",
    "# from tqdm import tqdm\n",
    "# tqdm.pandas()\n",
    "import tensorflow as tf\n",
    "from keras.utils import to_categorical\n",
    "from sklearn.metrics import r2_score\n",
    "from sklearn.model_selection import train_test_split\n",
    "from sklearn.ensemble import GradientBoostingRegressor\n",
    "from sklearn.model_selection import RandomizedSearchCV\n",
    "from nltk.sentiment.vader import SentimentIntensityAnalyzer\n",
    "from collections import Counter\n",
    "from scipy import stats\n",
    "from dateutil import parser\n",
    "from sklearn.preprocessing import LabelEncoder, StandardScaler\n",
    "from sklearn.neighbors import KNeighborsClassifier\n",
    "from sklearn.tree import DecisionTreeClassifier\n",
    "from sklearn.ensemble import RandomForestClassifier\n",
    "from sklearn.naive_bayes import GaussianNB\n",
    "from sklearn.svm import SVC\n",
    "from sklearn.model_selection import KFold\n",
    "from sklearn.model_selection import cross_val_score\n",
    "k_fold = KFold(n_splits=10, shuffle=True, random_state=0)\n",
    "import numpy as np\n",
    "\n",
    "import eli5\n",
    "from eli5.sklearn import PermutationImportance\n",
    "# from skopt.space import Real\n",
    "import matplotlib.colors as clt\n",
    "import matplotlib as mpl\n",
    "from matplotlib.ticker import FuncFormatter\n",
    "import warnings\n",
    "warnings.filterwarnings(\"ignore\")\n",
    "import matplotlib.pyplot as plt\n",
    "# from tqdm import tqdm\n",
    "from sklearn.preprocessing import StandardScaler\n",
    "from sklearn.svm import NuSVR\n",
    "from sklearn.metrics import mean_absolute_error\n",
    "%matplotlib inline\n",
    "from keras.layers import Dense\n",
    "# Change pandas viewing options\n",
    "pd.set_option('display.max_rows', 500)\n",
    "pd.set_option('display.max_columns', 500)\n",
    "pd.set_option('display.width', 1000)\n",
    "import zipfile\n",
    "from keras.models import Sequential\n",
    "# zf = zipfile.ZipFile('train.csv') # having First.csv zipped file.\n",
    "# df = pd.read_csv(zf.open('First.csv'))\n",
    "# zf.namelist()"
   ]
  },
  {
   "cell_type": "code",
   "execution_count": null,
   "metadata": {},
   "outputs": [],
   "source": [
    "# df = pd.read_csv(zf.open('seg_430e66.csv'))\n",
    "# df.head()\n"
   ]
  },
  {
   "cell_type": "code",
   "execution_count": 2,
   "metadata": {
    "scrolled": false
   },
   "outputs": [],
   "source": [
    "# df = pd.read_csv('train.csv.zip', dtype={'acoustic_data': np.int16, 'time_to_failure': np.float64})\n",
    "df=pd.read_csv('train.csv.zip', nrows=100000000)"
   ]
  },
  {
   "cell_type": "code",
   "execution_count": null,
   "metadata": {},
   "outputs": [],
   "source": [
    "df1=pd.read_csv('train.csv.zip', skiprows=100000000, nrows=20000000)"
   ]
  },
  {
   "cell_type": "code",
   "execution_count": null,
   "metadata": {},
   "outputs": [],
   "source": [
    "df2=pd.read_csv('train.csv.zip', skiprows=15000000, nrows=15000000)"
   ]
  },
  {
   "cell_type": "code",
   "execution_count": null,
   "metadata": {},
   "outputs": [],
   "source": [
    "df3=pd.read_csv('train.csv.zip', skiprows=30000000, nrows=15000000)"
   ]
  },
  {
   "cell_type": "code",
   "execution_count": null,
   "metadata": {},
   "outputs": [],
   "source": [
    "df4=pd.read_csv('train.csv.zip', skiprows=200000000, nrows=5000000)"
   ]
  },
  {
   "cell_type": "code",
   "execution_count": null,
   "metadata": {},
   "outputs": [],
   "source": [
    "df5=pd.read_csv('train.csv.zip', skiprows=250000000, nrows=5000000)"
   ]
  },
  {
   "cell_type": "code",
   "execution_count": null,
   "metadata": {},
   "outputs": [],
   "source": [
    "df6=pd.read_csv('train.csv.zip', skiprows=300000000, nrows=5000000)"
   ]
  },
  {
   "cell_type": "code",
   "execution_count": null,
   "metadata": {},
   "outputs": [],
   "source": [
    "df7=pd.read_csv('train.csv.zip', skiprows=350000000, nrows=5000000)"
   ]
  },
  {
   "cell_type": "code",
   "execution_count": null,
   "metadata": {},
   "outputs": [],
   "source": [
    "df8=pd.read_csv('train.csv.zip', skiprows=400000000, nrows=5000000)"
   ]
  },
  {
   "cell_type": "code",
   "execution_count": null,
   "metadata": {},
   "outputs": [],
   "source": [
    "df7=pd.read_csv('train.csv.zip', skiprows=450000000, nrows=5000000)"
   ]
  },
  {
   "cell_type": "code",
   "execution_count": null,
   "metadata": {},
   "outputs": [],
   "source": [
    "df8=pd.read_csv('train.csv.zip', skiprows=500000000, nrows=5000000)"
   ]
  },
  {
   "cell_type": "code",
   "execution_count": null,
   "metadata": {},
   "outputs": [],
   "source": [
    "df9=pd.read_csv('train.csv.zip', skiprows=550000000, nrows=5000000)"
   ]
  },
  {
   "cell_type": "code",
   "execution_count": null,
   "metadata": {},
   "outputs": [],
   "source": [
    "df8=pd.read_csv('train.csv.zip', skiprows=600000000, nrows=5000000)"
   ]
  },
  {
   "cell_type": "code",
   "execution_count": null,
   "metadata": {},
   "outputs": [],
   "source": [
    "df = df.append(df1, ignore_index=True)\n"
   ]
  },
  {
   "cell_type": "code",
   "execution_count": null,
   "metadata": {},
   "outputs": [],
   "source": [
    "df = df.append(df2, ignore_index=True)"
   ]
  },
  {
   "cell_type": "code",
   "execution_count": null,
   "metadata": {},
   "outputs": [],
   "source": [
    "df = df.append(df3, ignore_index=True)"
   ]
  },
  {
   "cell_type": "code",
   "execution_count": null,
   "metadata": {},
   "outputs": [],
   "source": [
    "df = df.append(df4, ignore_index=True)"
   ]
  },
  {
   "cell_type": "code",
   "execution_count": null,
   "metadata": {},
   "outputs": [],
   "source": [
    "df = df.append(df5, ignore_index=True)"
   ]
  },
  {
   "cell_type": "code",
   "execution_count": null,
   "metadata": {},
   "outputs": [],
   "source": [
    "df = df.append(df6, ignore_index=True)"
   ]
  },
  {
   "cell_type": "code",
   "execution_count": null,
   "metadata": {},
   "outputs": [],
   "source": [
    "pd.options.display.precision = 15\n",
    "\n",
    "train = df\n",
    "train.shape"
   ]
  },
  {
   "cell_type": "code",
   "execution_count": null,
   "metadata": {},
   "outputs": [],
   "source": [
    "\n",
    "rows = 100_000\n",
    "segments = int(np.floor(train.shape[0] / rows))\n",
    "\n",
    "X_train = pd.DataFrame(index=range(segments), dtype=np.float64,\n",
    "                       columns=['ave', 'std', 'max', 'min','cor','var', '25%', '50%', '75%'])\n",
    "#                        columns=['ave', 'std', 'max', 'min','cor','var'])\n",
    "y_train = pd.DataFrame(index=range(segments), dtype=np.float64,\n",
    "                       columns=['time_to_failure'])\n",
    "\n",
    "for segment in (range(segments)):\n",
    "    seg = train.iloc[segment*rows:segment*rows+rows]\n",
    "    x = seg['acoustic_data']\n",
    "    y = seg['time_to_failure'].values[-1]\n",
    "    \n",
    "    \n",
    "    y_train.loc[segment, 'time_to_failure'] = y\n",
    "    \n",
    "    X_train.loc[segment, 'ave'] = x.mean()\n",
    "    X_train.loc[segment, 'std'] = x.std()\n",
    "    X_train.loc[segment, 'max'] = x.max()\n",
    "    X_train.loc[segment, 'min'] = x.min()\n",
    "    X_train.loc[segment, 'cor'] = x.ptp()\n",
    "    X_train.loc[segment, 'var'] = x.var()\n",
    "    X_train.loc[segment, '25%'] = pd.Series(x).quantile(.25)\n",
    "    X_train.loc[segment, '50%'] = pd.Series(x).quantile(.5)\n",
    "    X_train.loc[segment, '75%'] = pd.Series(x).quantile(.75)\n",
    "#     X_train.loc[segment, 'rsum']= pd.Series(x).rolling(3).mean()"
   ]
  },
  {
   "cell_type": "code",
   "execution_count": null,
   "metadata": {},
   "outputs": [],
   "source": [
    "X_train['rol_2']=X_train['ave'].rolling(2).mean()\n",
    "X_train['rol_3']=X_train['ave'].rolling(3).mean()\n",
    "X_train['rol_4']=X_train['ave'].rolling(4).mean()\n",
    "X_train['rol_5']=X_train['ave'].rolling(5).mean()\n",
    "X_train['rol_2']=X_train['rol_2'].fillna(X_train['rol_2'].dropna().mean())\n",
    "X_train['rol_3']=X_train['rol_2'].fillna(X_train['rol_3'].dropna().mean())\n",
    "X_train['rol_4']=X_train['rol_4'].fillna(X_train['rol_4'].dropna().mean())\n",
    "X_train['rol_5']=X_train['rol_5'].fillna(X_train['rol_5'].dropna().mean())\n",
    "X_train['rol_std_2']=X_train['ave'].rolling(2).std()\n",
    "X_train['rol_std_3']=X_train['ave'].rolling(3).std()\n",
    "X_train['rol_std_4']=X_train['ave'].rolling(4).std()\n",
    "X_train['rol_std_5']=X_train['ave'].rolling(5).std()\n",
    "X_train['rol_std_2']=X_train['rol_std_2'].fillna(X_train['rol_std_2'].dropna().mean())\n",
    "X_train['rol_std_3']=X_train['rol_std_3'].fillna(X_train['rol_std_3'].dropna().mean())\n",
    "X_train['rol_std_4']=X_train['rol_std_4'].fillna(X_train['rol_std_4'].dropna().mean())\n",
    "X_train['rol_std_5']=X_train['rol_std_5'].fillna(X_train['rol_std_5'].dropna().mean())\n"
   ]
  },
  {
   "cell_type": "code",
   "execution_count": null,
   "metadata": {},
   "outputs": [],
   "source": []
  },
  {
   "cell_type": "code",
   "execution_count": null,
   "metadata": {},
   "outputs": [],
   "source": []
  },
  {
   "cell_type": "code",
   "execution_count": null,
   "metadata": {},
   "outputs": [],
   "source": [
    "X_train.head()"
   ]
  },
  {
   "cell_type": "code",
   "execution_count": null,
   "metadata": {},
   "outputs": [],
   "source": [
    "X_train.min()"
   ]
  },
  {
   "cell_type": "code",
   "execution_count": null,
   "metadata": {},
   "outputs": [],
   "source": [
    "# label_encoder=LabelEncoder()\n",
    "# label_encoder.fit(X_train['ave'])\n",
    "# X_train['ave']=label_encoder.transform(X_train['ave'])\n",
    "# label_encoder.fit(X_train['std'])\n",
    "# X_train['std']=label_encoder.transform(X_train['std'])\n",
    "# label_encoder.fit(X_train['min'])\n",
    "# X_train['min']=label_encoder.transform(X_train['min'])\n",
    "# label_encoder.fit(X_train['max'])\n",
    "# X_train['max']=label_encoder.transform(X_train['max'])\n",
    "# label_encoder.fit(X_train['var'])\n",
    "# X_train['var']=label_encoder.transform(X_train['var'])\n",
    "# label_encoder.fit(X_train['cor'])\n",
    "# X_train['cor']=label_encoder.transform(X_train['cor'])"
   ]
  },
  {
   "cell_type": "code",
   "execution_count": null,
   "metadata": {},
   "outputs": [],
   "source": [
    "# x_train, x_test, y_train, y_test = train_test_split(X_train, y_train, test_size=.5)\n",
    "\n",
    "# x_scaler = StandardScaler()\n",
    "# x_train_scaled = x_scaler.fit_transform(x_train)\n",
    "# x_test_scaled = x_scaler.fit_transform(x_test)\n",
    "\n",
    "\n",
    "# # Step 1: Label-encode data set\n",
    "# label_encoder = LabelEncoder()\n",
    "# label_encoder.fit(y_train)\n",
    "# encoded_y_train = label_encoder.fit_transform(y_train)\n",
    "# encoded_y_test = label_encoder.fit_transform(y_test)\n",
    "# # y_scaler = StandardScaler()\n",
    "# # encoded_y_train = (y_train)\n",
    "# # encoded_y_test = (y_test)\n",
    "\n",
    "\n",
    "# # Step 2: Convert encoded labels to one-hot-encoding\n",
    "# y_binary = to_categorical(encoded_y_train)\n",
    "# y_test_categorical = to_categorical(encoded_y_test)\n",
    "# print(x_train_scaled.shape, y_train_categorical.shape)\n",
    "# print(x_test_scaled.shape, y_test_categorical.shape)"
   ]
  },
  {
   "cell_type": "code",
   "execution_count": null,
   "metadata": {},
   "outputs": [],
   "source": [
    "scaler = StandardScaler()\n",
    "scaler.fit(X_train)\n",
    "X_train_scaled = scaler.transform(X_train)"
   ]
  },
  {
   "cell_type": "code",
   "execution_count": null,
   "metadata": {},
   "outputs": [],
   "source": [
    "\n",
    "y_binary = to_categorical(y_train)\n",
    "# Create model and add layers\n",
    "model = Sequential()\n",
    "model.add(Dense(units=100, activation='tanh',input_dim=X_train_scaled.shape[1]))\n",
    "# model.add(Dense(units=100, activation='tanh',input_dim=X_train.shape[1]))\n",
    "\n",
    "model.add(Dense(units=1000, activation='tanh'))\n",
    "model.add(Dense(units=100, activation='relu'))\n",
    "\n",
    "model.add(Dense(units=100, activation='relu'))\n",
    "\n",
    "model.add(Dense(units=y_binary.shape[1], activation='softmax'))\n",
    "# model.add(Dense(units=y_train.shape[1], activation='softmax'))\n",
    "\n",
    "model.compile(\n",
    "                optimizer='adam',\n",
    "#                 optimizer='adadelta',\n",
    "              loss='categorical_crossentropy',\n",
    "#     loss='mse',\n",
    "                 metrics=['accuracy', 'mean_absolute_error'])\n",
    "#               metrics=['accuracy'])"
   ]
  },
  {
   "cell_type": "code",
   "execution_count": null,
   "metadata": {},
   "outputs": [],
   "source": [
    "model.fit(\n",
    "    X_train_scaled,\n",
    "    y_binary,\n",
    "    epochs=25,\n",
    "#     batch_size=10,\n",
    "    shuffle=True,\n",
    "    verbose=2\n",
    ")"
   ]
  },
  {
   "cell_type": "code",
   "execution_count": null,
   "metadata": {},
   "outputs": [],
   "source": []
  },
  {
   "cell_type": "code",
   "execution_count": null,
   "metadata": {},
   "outputs": [],
   "source": [
    "submission = pd.read_csv('sample_submission.csv', index_col='seg_id')"
   ]
  },
  {
   "cell_type": "code",
   "execution_count": null,
   "metadata": {},
   "outputs": [],
   "source": [
    "X_test = pd.DataFrame(columns=X_train.columns, dtype=np.float64, index=submission.index)"
   ]
  },
  {
   "cell_type": "code",
   "execution_count": null,
   "metadata": {},
   "outputs": [],
   "source": [
    "for seg_id in X_test.index:\n",
    "    seg = pd.read_csv('test/' + seg_id + '.csv')\n",
    "    \n",
    "    x = seg['acoustic_data'].values\n",
    "    \n",
    "    X_test.loc[seg_id, 'ave'] = x.mean()\n",
    "    X_test.loc[seg_id, 'std'] = x.std()\n",
    "    X_test.loc[seg_id, 'max'] = x.max()\n",
    "    X_test.loc[seg_id, 'min'] = x.min()\n",
    "    X_test.loc[seg_id, 'cor'] = x.ptp()\n",
    "    X_test.loc[seg_id, 'var'] = x.var()\n",
    "    X_test.loc[seg_id, '25%'] = pd.Series(x).quantile(.25)\n",
    "    X_test.loc[seg_id, '50%'] = pd.Series(x).quantile(.5)\n",
    "    X_test.loc[seg_id, '75%'] = pd.Series(x).quantile(.75)\n",
    "    X_test['rol_2']=X_test['ave'].rolling(2).mean()\n",
    "    X_test['rol_3']=X_test['ave'].rolling(3).mean()\n",
    "    X_test['rol_4']=X_test['ave'].rolling(4).mean()\n",
    "    X_test['rol_5']=X_test['ave'].rolling(5).mean()\n",
    "    X_test['rol_2']=X_test['rol_2'].fillna(X_test['rol_2'].dropna().mean())\n",
    "    X_test['rol_3']=X_test['rol_2'].fillna(X_test['rol_3'].dropna().mean())\n",
    "    X_test['rol_4']=X_test['rol_4'].fillna(X_test['rol_4'].dropna().mean())\n",
    "    X_test['rol_5']=X_test['rol_5'].fillna(X_test['rol_5'].dropna().mean())\n",
    "    X_test['rol_std_2']=X_test['ave'].rolling(2).std()\n",
    "    X_test['rol_std_3']=X_test['ave'].rolling(3).std()\n",
    "    X_test['rol_std_4']=X_test['ave'].rolling(4).std()\n",
    "    X_test['rol_std_5']=X_test['ave'].rolling(5).std()\n",
    "    X_test['rol_std_2']=X_test['rol_std_2'].fillna(X_test['rol_std_2'].dropna().mean())\n",
    "    X_test['rol_std_3']=X_test['rol_std_3'].fillna(X_test['rol_std_3'].dropna().mean())\n",
    "    X_test['rol_std_4']=X_test['rol_std_4'].fillna(X_test['rol_std_4'].dropna().mean())\n",
    "    X_test['rol_std_5']=X_test['rol_std_5'].fillna(X_test['rol_std_5'].dropna().mean())"
   ]
  },
  {
   "cell_type": "code",
   "execution_count": null,
   "metadata": {},
   "outputs": [],
   "source": [
    "X_test.shape\n"
   ]
  },
  {
   "cell_type": "code",
   "execution_count": null,
   "metadata": {},
   "outputs": [],
   "source": [
    "# label_encoder=LabelEncoder()\n",
    "# label_encoder.fit(X_test['ave'])\n",
    "# X_test['ave']=label_encoder.transform(X_test['ave'])\n",
    "# label_encoder.fit(X_test['std'])\n",
    "# X_test['std']=label_encoder.transform(X_test['std'])\n",
    "# label_encoder.fit(X_test['min'])\n",
    "# X_test['min']=label_encoder.transform(X_test['min'])\n",
    "# label_encoder.fit(X_test['max'])\n",
    "# X_test['max']=label_encoder.transform(X_test['max'])\n",
    "# label_encoder.fit(X_test['var'])\n",
    "# X_test['var']=label_encoder.transform(X_test['var'])\n",
    "# label_encoder.fit(X_test['cor'])\n",
    "# X_test['cor']=label_encoder.transform(X_test['cor'])"
   ]
  },
  {
   "cell_type": "code",
   "execution_count": null,
   "metadata": {},
   "outputs": [],
   "source": [
    "X_test_scaled = scaler.transform(X_test)\n",
    "X_test_scaled.shape"
   ]
  },
  {
   "cell_type": "code",
   "execution_count": null,
   "metadata": {
    "scrolled": true
   },
   "outputs": [],
   "source": [
    "submission['time_to_failure'] = model.predict(X_test_scaled)\n",
    "submission.head()"
   ]
  },
  {
   "cell_type": "code",
   "execution_count": null,
   "metadata": {},
   "outputs": [],
   "source": [
    "# submission.to_csv('submission.csv')"
   ]
  },
  {
   "cell_type": "code",
   "execution_count": null,
   "metadata": {},
   "outputs": [],
   "source": [
    "print(submission['time_to_failure'].mean(), submission['time_to_failure'].max(), submission['time_to_failure'].min())"
   ]
  },
  {
   "cell_type": "code",
   "execution_count": null,
   "metadata": {},
   "outputs": [],
   "source": [
    "print(submission['time_to_failure'].mean(), submission['time_to_failure'].max(), submission['time_to_failure'].min())"
   ]
  },
  {
   "cell_type": "code",
   "execution_count": null,
   "metadata": {},
   "outputs": [],
   "source": [
    "submission.to_csv('submission.csv')"
   ]
  },
  {
   "cell_type": "code",
   "execution_count": null,
   "metadata": {},
   "outputs": [],
   "source": []
  }
 ],
 "metadata": {
  "kernelspec": {
   "display_name": "Python 3",
   "language": "python",
   "name": "python3"
  },
  "language_info": {
   "codemirror_mode": {
    "name": "ipython",
    "version": 3
   },
   "file_extension": ".py",
   "mimetype": "text/x-python",
   "name": "python",
   "nbconvert_exporter": "python",
   "pygments_lexer": "ipython3",
   "version": "3.7.1"
  }
 },
 "nbformat": 4,
 "nbformat_minor": 2
}
