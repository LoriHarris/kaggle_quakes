{
 "cells": [
  {
   "cell_type": "code",
   "execution_count": 9,
   "metadata": {
    "_cell_guid": "b1076dfc-b9ad-4769-8c92-a6c4dae69d19",
    "_uuid": "8f2839f25d086af736a60e9eeb907d3b93b6e0e5"
   },
   "outputs": [],
   "source": [
    "import numpy as np\n",
    "import matplotlib.pyplot as plt\n",
    "# import seaborn as sns\n",
    "\n",
    "import pandas as pd\n",
    "import json\n",
    "\n",
    "import geopy\n",
    "from geopy import distance\n",
    "from geopy.distance import vincenty\n",
    "# from tqdm import tqdm\n",
    "# tqdm.pandas()\n",
    "import seaborn as sns\n",
    "import catboost as cb\n",
    "from catboost import CatBoostRegressor, Pool\n",
    "from sklearn.model_selection import KFold\n",
    "# from paramsearch import paramsearch\n",
    "# from itertools import product,chain\n",
    "from sklearn.model_selection import GridSearchCV\n",
    "from sklearn.svm import NuSVR, SVR\n",
    "from sklearn.kernel_ridge import KernelRidge\n",
    "import tensorflow as tf\n",
    "from keras.utils import to_categorical\n",
    "from sklearn.metrics import r2_score, mean_absolute_error\n",
    "from sklearn.model_selection import train_test_split\n",
    "from sklearn.ensemble import GradientBoostingRegressor\n",
    "from sklearn.model_selection import RandomizedSearchCV\n",
    "from nltk.sentiment.vader import SentimentIntensityAnalyzer\n",
    "from collections import Counter\n",
    "from scipy import stats\n",
    "from dateutil import parser\n",
    "from sklearn.preprocessing import LabelEncoder, StandardScaler\n",
    "from sklearn.neighbors import KNeighborsClassifier\n",
    "from sklearn.tree import DecisionTreeClassifier\n",
    "from sklearn.ensemble import RandomForestClassifier\n",
    "from sklearn.naive_bayes import GaussianNB\n",
    "from sklearn.svm import SVC\n",
    "from sklearn.model_selection import KFold\n",
    "from sklearn.model_selection import cross_val_score\n",
    "k_fold = KFold(n_splits=10, shuffle=True, random_state=0)\n",
    "import numpy as np\n",
    "\n",
    "import eli5\n",
    "from eli5.sklearn import PermutationImportance\n",
    "# from skopt.space import Real\n",
    "import matplotlib.colors as clt\n",
    "import matplotlib as mpl\n",
    "from matplotlib.ticker import FuncFormatter\n",
    "import warnings\n",
    "warnings.filterwarnings(\"ignore\")\n",
    "import matplotlib.pyplot as plt\n",
    "# from tqdm import tqdm\n",
    "from scipy.stats import kurtosis, skew\n",
    "\n",
    "from sklearn.preprocessing import StandardScaler\n",
    "from sklearn.svm import NuSVR\n",
    "from sklearn.metrics import mean_absolute_error\n",
    "%matplotlib inline\n",
    "from keras.layers import Dense\n",
    "# Change pandas viewing options\n",
    "pd.set_option('display.max_rows', 500)\n",
    "pd.set_option('display.max_columns', 500)\n",
    "pd.set_option('display.width', 1000)\n",
    "import zipfile\n",
    "from keras.models import Sequential\n",
    "# zf = zipfile.ZipFile('train.csv') # having First.csv zipped file.\n",
    "# df = pd.read_csv(zf.open('First.csv'))\n",
    "# zf.namelist()\n",
    "\n",
    "import os\n",
    "# print(os.listdir(\"../input\"))\n",
    "\n",
    "# Any results you write to the current directory are saved as output."
   ]
  },
  {
   "cell_type": "code",
   "execution_count": 10,
   "metadata": {},
   "outputs": [],
   "source": [
    "def gen_features(X):\n",
    "    strain = []\n",
    "    strain.append(X.mean())\n",
    "    strain.append(X.std())\n",
    "    strain.append(X.min())\n",
    "    strain.append(X.max())\n",
    "    strain.append(X.kurtosis())\n",
    "    strain.append(X.skew())\n",
    "    strain.append(X.ptp())\n",
    "#     strain.append(X.var())\n",
    "    strain.append(np.quantile(X, 0.01))\n",
    "    strain.append(np.quantile(X, 0.05))\n",
    "    zc=np.fft.fft(X)\n",
    "    realFFT = np.real(zc)\n",
    "    imagFFT = np.imag(zc)\n",
    "    strain.append(realFFT.mean())\n",
    "    strain.append(realFFT.std())\n",
    "    strain.append(realFFT.max())\n",
    "    strain.append(realFFT.min())\n",
    "    strain.append(imagFFT.mean())\n",
    "    strain.append(imagFFT.std())\n",
    "    strain.append(imagFFT.max())\n",
    "    strain.append(imagFFT.min())\n",
    "\n",
    "    strain.append((X.rolling(10).std().dropna().values).mean())\n",
    "    strain.append((X.rolling(10).mean().dropna().values).mean())\n",
    "    strain.append((X.rolling(100).std().dropna().values).mean())\n",
    "    strain.append((X.rolling(100).mean().dropna().values).mean())\n",
    "    strain.append((X.rolling(1000).std().dropna().values).mean())\n",
    "    strain.append((X.rolling(1000).mean().dropna().values).mean())\n",
    "    strain.append((X.rolling(2).quantile(.01, interpolation='midpoint')).mean())\n",
    "#     strain.append((X.rolling(2).quantile(.05, interpolation='midpoint')).mean())\n",
    "\n",
    "#     X.loc[seg_id, 'ave_roll_std_' + str(windows)] = x_roll_std.mean()\n",
    "#     X.loc[seg_id, 'std_roll_std_' + str(windows)] = x_roll_std.std()\n",
    "#     X.loc[seg_id, 'max_roll_std_' + str(windows)] = x_roll_std.max()\n",
    "#     X.loc[seg_id, 'min_roll_std_' + str(windows)] = x_roll_std.min()\n",
    "#     X.loc[seg_id, 'q01_roll_std_' + str(windows)] = np.quantile(x_roll_std, 0.01)\n",
    "#     strain.append(np.quantile((X.rolling(windows).std().dropna().values), 0.05))\n",
    "#     X.loc[seg_id, 'q95_roll_std_' + str(windows)] = np.quantile(x_roll_std, 0.95)\n",
    "#     X.loc[seg_id, 'q99_roll_std_' + str(windows)] = np.quantile(x_roll_std, 0.99)\n",
    "#     X.loc[seg_id, 'av_change_abs_roll_std_' + str(windows)] = np.mean(np.diff(x_roll_std))\n",
    "#     X.loc[seg_id, 'av_change_rate_roll_std_' + str(windows)] = np.mean(np.nonzero((np.diff(x_roll_std) / x_roll_std[:-1]))[0])\n",
    "#     X.loc[seg_id, 'abs_max_roll_std_' + str(windows)] = np.abs(x_roll_std).max()\n",
    "    return pd.Series(strain)\n",
    "\n",
    "# final.describe()\n",
    "    "
   ]
  },
  {
   "cell_type": "code",
   "execution_count": 11,
   "metadata": {},
   "outputs": [],
   "source": [
    "train = pd.read_csv('train.csv', iterator=True, chunksize=150_000, dtype={'acoustic_data': np.int16, 'time_to_failure': np.float64})\n",
    "#"
   ]
  },
  {
   "cell_type": "code",
   "execution_count": 12,
   "metadata": {},
   "outputs": [],
   "source": [
    "\n",
    "X_train1 = pd.DataFrame()\n",
    "y_train1= pd.Series()\n",
    "for df in train:\n",
    "    ch = gen_features(df['acoustic_data'])\n",
    "    X_train1 = X_train1.append(ch, ignore_index=True)\n",
    "    y_train1 = y_train1.append(pd.Series(df['time_to_failure'].values[-1]))"
   ]
  },
  {
   "cell_type": "code",
   "execution_count": 13,
   "metadata": {},
   "outputs": [
    {
     "data": {
      "text/html": [
       "<div>\n",
       "<style scoped>\n",
       "    .dataframe tbody tr th:only-of-type {\n",
       "        vertical-align: middle;\n",
       "    }\n",
       "\n",
       "    .dataframe tbody tr th {\n",
       "        vertical-align: top;\n",
       "    }\n",
       "\n",
       "    .dataframe thead th {\n",
       "        text-align: right;\n",
       "    }\n",
       "</style>\n",
       "<table border=\"1\" class=\"dataframe\">\n",
       "  <thead>\n",
       "    <tr style=\"text-align: right;\">\n",
       "      <th></th>\n",
       "      <th>0</th>\n",
       "      <th>1</th>\n",
       "      <th>2</th>\n",
       "      <th>3</th>\n",
       "      <th>4</th>\n",
       "      <th>5</th>\n",
       "      <th>6</th>\n",
       "      <th>7</th>\n",
       "      <th>8</th>\n",
       "      <th>9</th>\n",
       "      <th>10</th>\n",
       "      <th>11</th>\n",
       "      <th>12</th>\n",
       "      <th>13</th>\n",
       "      <th>14</th>\n",
       "      <th>15</th>\n",
       "      <th>16</th>\n",
       "      <th>17</th>\n",
       "      <th>18</th>\n",
       "      <th>19</th>\n",
       "      <th>20</th>\n",
       "      <th>21</th>\n",
       "      <th>22</th>\n",
       "      <th>23</th>\n",
       "    </tr>\n",
       "  </thead>\n",
       "  <tbody>\n",
       "    <tr>\n",
       "      <th>0</th>\n",
       "      <td>4.884113</td>\n",
       "      <td>5.101106</td>\n",
       "      <td>-98.0</td>\n",
       "      <td>104.0</td>\n",
       "      <td>33.662481</td>\n",
       "      <td>-0.024061</td>\n",
       "      <td>202.0</td>\n",
       "      <td>-8.0</td>\n",
       "      <td>-2.0</td>\n",
       "      <td>12.0</td>\n",
       "      <td>2349.811482</td>\n",
       "      <td>732617.0</td>\n",
       "      <td>-20121.154171</td>\n",
       "      <td>-1.697723e-15</td>\n",
       "      <td>1399.854635</td>\n",
       "      <td>23432.719433</td>\n",
       "      <td>-23432.719433</td>\n",
       "      <td>3.507118</td>\n",
       "      <td>4.884088</td>\n",
       "      <td>4.050450</td>\n",
       "      <td>4.883864</td>\n",
       "      <td>4.288590</td>\n",
       "      <td>4.883418</td>\n",
       "      <td>4.884106</td>\n",
       "    </tr>\n",
       "    <tr>\n",
       "      <th>1</th>\n",
       "      <td>4.725767</td>\n",
       "      <td>6.588824</td>\n",
       "      <td>-154.0</td>\n",
       "      <td>181.0</td>\n",
       "      <td>98.758517</td>\n",
       "      <td>0.390561</td>\n",
       "      <td>335.0</td>\n",
       "      <td>-11.0</td>\n",
       "      <td>-2.0</td>\n",
       "      <td>5.0</td>\n",
       "      <td>2566.032248</td>\n",
       "      <td>708865.0</td>\n",
       "      <td>-31056.675076</td>\n",
       "      <td>1.843243e-15</td>\n",
       "      <td>1810.312266</td>\n",
       "      <td>27236.180586</td>\n",
       "      <td>-27236.180586</td>\n",
       "      <td>3.761435</td>\n",
       "      <td>4.725732</td>\n",
       "      <td>4.436359</td>\n",
       "      <td>4.725623</td>\n",
       "      <td>4.843486</td>\n",
       "      <td>4.724876</td>\n",
       "      <td>4.725765</td>\n",
       "    </tr>\n",
       "    <tr>\n",
       "      <th>2</th>\n",
       "      <td>4.906393</td>\n",
       "      <td>6.967397</td>\n",
       "      <td>-106.0</td>\n",
       "      <td>140.0</td>\n",
       "      <td>33.555211</td>\n",
       "      <td>0.217391</td>\n",
       "      <td>246.0</td>\n",
       "      <td>-15.0</td>\n",
       "      <td>-3.0</td>\n",
       "      <td>5.0</td>\n",
       "      <td>2683.549049</td>\n",
       "      <td>735959.0</td>\n",
       "      <td>-27654.557067</td>\n",
       "      <td>4.850638e-16</td>\n",
       "      <td>1921.220576</td>\n",
       "      <td>30073.497066</td>\n",
       "      <td>-30073.497066</td>\n",
       "      <td>4.080841</td>\n",
       "      <td>4.906229</td>\n",
       "      <td>4.917334</td>\n",
       "      <td>4.906088</td>\n",
       "      <td>5.423013</td>\n",
       "      <td>4.905840</td>\n",
       "      <td>4.906399</td>\n",
       "    </tr>\n",
       "    <tr>\n",
       "      <th>3</th>\n",
       "      <td>4.902240</td>\n",
       "      <td>6.922305</td>\n",
       "      <td>-199.0</td>\n",
       "      <td>197.0</td>\n",
       "      <td>116.548172</td>\n",
       "      <td>0.757278</td>\n",
       "      <td>396.0</td>\n",
       "      <td>-12.0</td>\n",
       "      <td>-2.0</td>\n",
       "      <td>5.0</td>\n",
       "      <td>2685.788525</td>\n",
       "      <td>735336.0</td>\n",
       "      <td>-25622.393604</td>\n",
       "      <td>-1.067140e-15</td>\n",
       "      <td>1891.826366</td>\n",
       "      <td>27380.321471</td>\n",
       "      <td>-27380.321471</td>\n",
       "      <td>3.788192</td>\n",
       "      <td>4.902291</td>\n",
       "      <td>4.533343</td>\n",
       "      <td>4.901946</td>\n",
       "      <td>4.939280</td>\n",
       "      <td>4.901486</td>\n",
       "      <td>4.902239</td>\n",
       "    </tr>\n",
       "    <tr>\n",
       "      <th>4</th>\n",
       "      <td>4.908720</td>\n",
       "      <td>7.301110</td>\n",
       "      <td>-126.0</td>\n",
       "      <td>145.0</td>\n",
       "      <td>52.977905</td>\n",
       "      <td>0.064531</td>\n",
       "      <td>271.0</td>\n",
       "      <td>-15.0</td>\n",
       "      <td>-2.0</td>\n",
       "      <td>12.0</td>\n",
       "      <td>2761.715771</td>\n",
       "      <td>736308.0</td>\n",
       "      <td>-26271.075117</td>\n",
       "      <td>-1.455192e-16</td>\n",
       "      <td>1995.742969</td>\n",
       "      <td>27503.045280</td>\n",
       "      <td>-27503.045280</td>\n",
       "      <td>3.835604</td>\n",
       "      <td>4.908728</td>\n",
       "      <td>4.761149</td>\n",
       "      <td>4.909175</td>\n",
       "      <td>5.121868</td>\n",
       "      <td>4.910196</td>\n",
       "      <td>4.908676</td>\n",
       "    </tr>\n",
       "  </tbody>\n",
       "</table>\n",
       "</div>"
      ],
      "text/plain": [
       "         0         1      2      3           4         5      6     7    8     9            10        11            12            13           14            15            16        17        18        19        20        21        22        23\n",
       "0  4.884113  5.101106  -98.0  104.0   33.662481 -0.024061  202.0  -8.0 -2.0  12.0  2349.811482  732617.0 -20121.154171 -1.697723e-15  1399.854635  23432.719433 -23432.719433  3.507118  4.884088  4.050450  4.883864  4.288590  4.883418  4.884106\n",
       "1  4.725767  6.588824 -154.0  181.0   98.758517  0.390561  335.0 -11.0 -2.0   5.0  2566.032248  708865.0 -31056.675076  1.843243e-15  1810.312266  27236.180586 -27236.180586  3.761435  4.725732  4.436359  4.725623  4.843486  4.724876  4.725765\n",
       "2  4.906393  6.967397 -106.0  140.0   33.555211  0.217391  246.0 -15.0 -3.0   5.0  2683.549049  735959.0 -27654.557067  4.850638e-16  1921.220576  30073.497066 -30073.497066  4.080841  4.906229  4.917334  4.906088  5.423013  4.905840  4.906399\n",
       "3  4.902240  6.922305 -199.0  197.0  116.548172  0.757278  396.0 -12.0 -2.0   5.0  2685.788525  735336.0 -25622.393604 -1.067140e-15  1891.826366  27380.321471 -27380.321471  3.788192  4.902291  4.533343  4.901946  4.939280  4.901486  4.902239\n",
       "4  4.908720  7.301110 -126.0  145.0   52.977905  0.064531  271.0 -15.0 -2.0  12.0  2761.715771  736308.0 -26271.075117 -1.455192e-16  1995.742969  27503.045280 -27503.045280  3.835604  4.908728  4.761149  4.909175  5.121868  4.910196  4.908676"
      ]
     },
     "execution_count": 13,
     "metadata": {},
     "output_type": "execute_result"
    }
   ],
   "source": [
    "X_train1.head()"
   ]
  },
  {
   "cell_type": "code",
   "execution_count": 14,
   "metadata": {},
   "outputs": [],
   "source": [
    "X_train, X_test, y_train, y_test = train_test_split(X_train1, y_train1, train_size=0.5, random_state=1234)"
   ]
  },
  {
   "cell_type": "code",
   "execution_count": 15,
   "metadata": {},
   "outputs": [
    {
     "ename": "NameError",
     "evalue": "name 'Xtrain1' is not defined",
     "output_type": "error",
     "traceback": [
      "\u001b[1;31m---------------------------------------------------------------------------\u001b[0m",
      "\u001b[1;31mNameError\u001b[0m                                 Traceback (most recent call last)",
      "\u001b[1;32m<ipython-input-15-8cfb19d83109>\u001b[0m in \u001b[0;36m<module>\u001b[1;34m()\u001b[0m\n\u001b[1;32m----> 1\u001b[1;33m \u001b[0mtrain_label\u001b[0m\u001b[1;33m=\u001b[0m\u001b[0mXtrain1\u001b[0m\u001b[1;33m.\u001b[0m\u001b[0mcolumns\u001b[0m\u001b[1;33m\u001b[0m\u001b[0m\n\u001b[0m\u001b[0;32m      2\u001b[0m \u001b[1;33m\u001b[0m\u001b[0m\n\u001b[0;32m      3\u001b[0m params = {'depth':[3,1,2,6,4,5,7,8,9,10],\n\u001b[0;32m      4\u001b[0m           \u001b[1;34m'iterations'\u001b[0m\u001b[1;33m:\u001b[0m\u001b[1;33m[\u001b[0m\u001b[1;36m250\u001b[0m\u001b[1;33m,\u001b[0m\u001b[1;36m100\u001b[0m\u001b[1;33m,\u001b[0m\u001b[1;36m500\u001b[0m\u001b[1;33m,\u001b[0m\u001b[1;36m1000\u001b[0m\u001b[1;33m]\u001b[0m\u001b[1;33m,\u001b[0m\u001b[1;33m\u001b[0m\u001b[0m\n\u001b[0;32m      5\u001b[0m           \u001b[1;34m'learning_rate'\u001b[0m\u001b[1;33m:\u001b[0m\u001b[1;33m[\u001b[0m\u001b[1;36m0.03\u001b[0m\u001b[1;33m,\u001b[0m\u001b[1;36m0.001\u001b[0m\u001b[1;33m,\u001b[0m\u001b[1;36m0.01\u001b[0m\u001b[1;33m,\u001b[0m\u001b[1;36m0.1\u001b[0m\u001b[1;33m,\u001b[0m\u001b[1;36m0.2\u001b[0m\u001b[1;33m,\u001b[0m\u001b[1;36m0.3\u001b[0m\u001b[1;33m]\u001b[0m\u001b[1;33m,\u001b[0m\u001b[1;33m\u001b[0m\u001b[0m\n",
      "\u001b[1;31mNameError\u001b[0m: name 'Xtrain1' is not defined"
     ]
    }
   ],
   "source": [
    "# train_label=Xtrain1.columns\n",
    "\n",
    "# params = {'depth':[3,1,2,6,4,5,7,8,9,10],\n",
    "#           'iterations':[250,100,500,1000],\n",
    "#           'learning_rate':[0.03,0.001,0.01,0.1,0.2,0.3], \n",
    "#           'l2_leaf_reg':[3,1,5,10,100],\n",
    "#           'border_count':[32,5,10,20,50,100,200],\n",
    "#           'ctr_border_count':[50,5,10,20,100,200],\n",
    "#           'thread_count':4}"
   ]
  },
  {
   "cell_type": "code",
   "execution_count": null,
   "metadata": {},
   "outputs": [],
   "source": [
    "# def crossvaltest(params,X_train,train_label,cat_dims=None,n_splits=3):\n",
    "#     kf = KFold(n_splits=n_splits,shuffle=True) \n",
    "#     res = []\n",
    "#     for train_index, test_index in kf.split(X_train):\n",
    "#         train = train_set.iloc[train_index,:]\n",
    "#         test = train_set.iloc[test_index,:]\n",
    "\n",
    "#         labels = train_label.ix[train_index]\n",
    "#         test_labels = train_label.ix[test_index]\n",
    "\n",
    "#         clf = cb.CatBoostRegressor(**params)\n",
    "#         clf.fit(train, np.ravel(labels), cat_features=cat_dims)\n",
    "\n",
    "#         res.append(np.mean(clf.predict(test)==np.ravel(test_labels)))\n",
    "#     return np.mean(res)"
   ]
  },
  {
   "cell_type": "code",
   "execution_count": 16,
   "metadata": {},
   "outputs": [],
   "source": [
    "# this function runs grid search on several parameters\n",
    "# def catboost_param_tune(params,X_train,train_label,cat_dims=None,n_splits=3):\n",
    "#     ps = paramsearch(params)\n",
    "#     # search 'border_count', 'l2_leaf_reg' etc. individually \n",
    "#     #   but 'iterations','learning_rate' together\n",
    "#     for prms in chain(ps.grid_search(['border_count']),\n",
    "#                       ps.grid_search(['ctr_border_count']),\n",
    "#                       ps.grid_search(['l2_leaf_reg']),\n",
    "#                       ps.grid_search(['iterations','learning_rate']),\n",
    "#                       ps.grid_search(['depth'])):\n",
    "#         res = crossvaltest(prms,train_set,train_label,cat_dims,n_splits)\n",
    "#         # save the crossvalidation result so that future iterations can reuse the best parameters\n",
    "#         ps.register_result(res,prms)\n",
    "#         print(res,prms,s'best:',ps.bestscore(),ps.bestparam())\n",
    "#     return ps.bestparam()\n",
    "\n",
    "# bestparams = catboost_param_tune(params,train_set,train_label,cat_dims)"
   ]
  },
  {
   "cell_type": "code",
   "execution_count": 17,
   "metadata": {},
   "outputs": [
    {
     "data": {
      "text/plain": [
       "<catboost.core.CatBoostRegressor at 0x238cd14f390>"
      ]
     },
     "execution_count": 17,
     "metadata": {},
     "output_type": "execute_result"
    }
   ],
   "source": [
    "# train_pool = Pool(X_train_scaled, y_binary)\n",
    "model=CatBoostRegressor(iterations=10000, depth=3, learning_rate=0.1, loss_function='MAE',boosting_type='Plain')\n",
    "model.fit(X_train, y_train, silent=True)\n"
   ]
  },
  {
   "cell_type": "code",
   "execution_count": 18,
   "metadata": {},
   "outputs": [
    {
     "data": {
      "text/plain": [
       "{'learn': {'MAE': 1.213729961877429}}"
      ]
     },
     "execution_count": 18,
     "metadata": {},
     "output_type": "execute_result"
    }
   ],
   "source": [
    "#1.56\n",
    "model.best_score_"
   ]
  },
  {
   "cell_type": "code",
   "execution_count": null,
   "metadata": {},
   "outputs": [],
   "source": []
  },
  {
   "cell_type": "code",
   "execution_count": 19,
   "metadata": {},
   "outputs": [
    {
     "data": {
      "text/plain": [
       "2.1469322059943"
      ]
     },
     "execution_count": 19,
     "metadata": {},
     "output_type": "execute_result"
    }
   ],
   "source": [
    "#2.2674\n",
    "y_pred=(model.predict(X_test))\n",
    "mean_absolute_error(y_test, y_pred, sample_weight=None)"
   ]
  },
  {
   "cell_type": "code",
   "execution_count": 20,
   "metadata": {},
   "outputs": [],
   "source": [
    "# submission = pd.read_csv('../input/sample_submission.csv', index_col='seg_id')"
   ]
  },
  {
   "cell_type": "code",
   "execution_count": 21,
   "metadata": {},
   "outputs": [],
   "source": [
    "# X_test = pd.DataFrame(columns=X_train.columns, dtype=np.float64, index=submission.index)\n"
   ]
  },
  {
   "cell_type": "code",
   "execution_count": 22,
   "metadata": {},
   "outputs": [],
   "source": [
    "submission = pd.read_csv('sample_submission.csv', index_col='seg_id')\n",
    "X_test = pd.DataFrame()\n",
    "\n",
    "# prepare test data\n",
    "for seg_id in submission.index:\n",
    "    seg = pd.read_csv('test/' + seg_id + '.csv')\n",
    "    ch = gen_features(seg['acoustic_data'])\n",
    "    X_test = X_test.append(ch, ignore_index=True)\n",
    "\n",
    "# X_test = scaler.transform(X_test)"
   ]
  },
  {
   "cell_type": "code",
   "execution_count": 23,
   "metadata": {},
   "outputs": [],
   "source": [
    "# X_test.shape"
   ]
  },
  {
   "cell_type": "code",
   "execution_count": 24,
   "metadata": {},
   "outputs": [],
   "source": [
    "# for seg_id in X_test.index:\n",
    "#     seg = pd.read_csv('../input/test/' + seg_id + '.csv')\n",
    "    \n",
    "#     x = seg['acoustic_data'].values\n",
    "    \n",
    "#     X_test.loc[seg_id, 'ave'] = x.mean()\n",
    "#     X_test.loc[seg_id, 'std'] = x.std()\n",
    "#     X_test.loc[seg_id, 'max'] = x.max()\n",
    "#     X_test.loc[seg_id, 'min'] = x.min()\n",
    "#     X_test.loc[seg_id, 'cor'] = x.ptp()\n",
    "#     X_test.loc[seg_id, 'var'] = x.var()\n",
    "#     X_test.loc[seg_id, '25%'] = pd.Series(x).quantile(.25)\n",
    "#     X_test.loc[seg_id, '50%'] = pd.Series(x).quantile(.5)\n",
    "#     X_test.loc[seg_id, '75%'] = pd.Series(x).quantile(.75)\n",
    "#     X_test['rol_2']=X_test['ave'].rolling(2).mean()\n",
    "#     X_test['rol_3']=X_test['ave'].rolling(3).mean()\n",
    "#     X_test['rol_4']=X_test['ave'].rolling(4).mean()\n",
    "#     X_test['rol_5']=X_test['ave'].rolling(5).mean()\n",
    "#     X_test['rol_2']=X_test['rol_2'].fillna(X_test['rol_2'].dropna().mean())\n",
    "#     X_test['rol_3']=X_test['rol_2'].fillna(X_test['rol_3'].dropna().mean())\n",
    "#     X_test['rol_4']=X_test['rol_4'].fillna(X_test['rol_4'].dropna().mean())\n",
    "#     X_test['rol_5']=X_test['rol_5'].fillna(X_test['rol_5'].dropna().mean())\n",
    "#     X_test['rol_std_2']=X_test['ave'].rolling(2).std()\n",
    "#     X_test['rol_std_3']=X_test['ave'].rolling(3).std()\n",
    "#     X_test['rol_std_4']=X_test['ave'].rolling(4).std()\n",
    "#     X_test['rol_std_5']=X_test['ave'].rolling(5).std()\n",
    "#     X_test['rol_std_2']=X_test['rol_std_2'].fillna(X_test['rol_std_2'].dropna().mean())\n",
    "#     X_test['rol_std_3']=X_test['rol_std_3'].fillna(X_test['rol_std_3'].dropna().mean())\n",
    "#     X_test['rol_std_4']=X_test['rol_std_4'].fillna(X_test['rol_std_4'].dropna().mean())\n",
    "#     X_test['rol_std_5']=X_test['rol_std_5'].fillna(X_test['rol_std_5'].dropna().mean())"
   ]
  },
  {
   "cell_type": "code",
   "execution_count": 25,
   "metadata": {},
   "outputs": [],
   "source": [
    "# X_test = X_test.reshape(X_test.shape[0], X_test.shape[1], 1)\n",
    "y_hat = model.predict(X_test)"
   ]
  },
  {
   "cell_type": "code",
   "execution_count": 26,
   "metadata": {},
   "outputs": [],
   "source": [
    "# X_test_scaled = scaler.transform(X_test)\n",
    "# submission['time_to_failure'] = model.predict(X_test_scaled)\n"
   ]
  },
  {
   "cell_type": "code",
   "execution_count": 28,
   "metadata": {},
   "outputs": [],
   "source": [
    "submission['time_to_failure'] = y_hat\n",
    "submission.to_csv('submission.csv')"
   ]
  },
  {
   "cell_type": "code",
   "execution_count": 29,
   "metadata": {},
   "outputs": [],
   "source": [
    "submission.to_csv('../submission.csv')"
   ]
  },
  {
   "cell_type": "code",
   "execution_count": 30,
   "metadata": {},
   "outputs": [],
   "source": [
    "X_train1.columns = ['mean','std', 'min', 'max', 'kurt', 'skew','ptp','q.01','q.05','Rmean','Rstd','Rmax','Rmin','Imean','Istd','Imax','Imin','rol_std_10','rol_mean_10','rol_std_100','rol_mean_100','rol_std_1000','rol_mean_1000','rol_q.04']\n"
   ]
  },
  {
   "cell_type": "code",
   "execution_count": 31,
   "metadata": {},
   "outputs": [
    {
     "data": {
      "image/png": "[encoded data removed]",
      "text/plain": [
       "<Figure size 432x288 with 1 Axes>"
      ]
     },
     "metadata": {
      "needs_background": "light"
     },
     "output_type": "display_data"
    }
   ],
   "source": [
    "fold_importance_df=pd.DataFrame()\n",
    "fold_importance_df['Feature']=X_train1.columns\n",
    "feature_importance_df=pd.DataFrame()\n",
    "fold_importance_df[\"importance\"]=model.feature_importances_[:len(X_train1.columns)]\n",
    "feature_importance_df=pd.concat([feature_importance_df, fold_importance_df], axis=0)\n",
    "cols = (feature_importance_df[[\"Feature\", \"importance\"]]\n",
    "        .groupby(\"Feature\")\n",
    "        .mean()\n",
    "        .sort_values(by=\"importance\", ascending=False)[:200].index)\n",
    "best_features = feature_importance_df.loc[feature_importance_df.Feature.isin(cols)]\n",
    "\n",
    "# plt.figure(figsize=(14,26))\n",
    "sns.barplot(x=\"importance\", y=\"Feature\", data=best_features.sort_values(by=\"importance\",ascending=False))\n",
    "plt.title('LightGBM Features (averaged over folds)')\n",
    "plt.tight_layout()\n",
    "plt.savefig('lgbm_importances.png')"
   ]
  },
  {
   "cell_type": "code",
   "execution_count": 32,
   "metadata": {},
   "outputs": [],
   "source": [
    "# pd.options.display.precision = 15\n",
    "\n",
    "# submission.head()"
   ]
  },
  {
   "cell_type": "code",
   "execution_count": null,
   "metadata": {},
   "outputs": [],
   "source": []
  }
 ],
 "metadata": {
  "kernelspec": {
   "display_name": "Python 3",
   "language": "python",
   "name": "python3"
  },
  "language_info": {
   "codemirror_mode": {
    "name": "ipython",
    "version": 3
   },
   "file_extension": ".py",
   "mimetype": "text/x-python",
   "name": "python",
   "nbconvert_exporter": "python",
   "pygments_lexer": "ipython3",
   "version": "3.7.1"
  }
 },
 "nbformat": 4,
 "nbformat_minor": 1
}
