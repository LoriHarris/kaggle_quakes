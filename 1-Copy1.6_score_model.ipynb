{
 "cells": [
  {
   "cell_type": "code",
   "execution_count": 106,
   "metadata": {
    "_cell_guid": "b1076dfc-b9ad-4769-8c92-a6c4dae69d19",
    "_uuid": "8f2839f25d086af736a60e9eeb907d3b93b6e0e5"
   },
   "outputs": [],
   "source": [
    "import numpy as np\n",
    "import matplotlib.pyplot as plt\n",
    "# import seaborn as sns\n",
    "\n",
    "import pandas as pd\n",
    "import json\n",
    "\n",
    "import geopy\n",
    "from geopy import distance\n",
    "from geopy.distance import vincenty\n",
    "# from tqdm import tqdm\n",
    "# tqdm.pandas()\n",
    "import seaborn as sns\n",
    "from catboost import CatBoostRegressor, Pool\n",
    "from sklearn.model_selection import GridSearchCV\n",
    "from sklearn.svm import NuSVR, SVR\n",
    "from sklearn.kernel_ridge import KernelRidge\n",
    "import tensorflow as tf\n",
    "from keras.utils import to_categorical\n",
    "from sklearn.metrics import r2_score, mean_absolute_error\n",
    "from sklearn.model_selection import train_test_split\n",
    "from sklearn.ensemble import GradientBoostingRegressor\n",
    "from sklearn.model_selection import RandomizedSearchCV\n",
    "from nltk.sentiment.vader import SentimentIntensityAnalyzer\n",
    "from collections import Counter\n",
    "from scipy import stats\n",
    "from dateutil import parser\n",
    "from sklearn.preprocessing import LabelEncoder, StandardScaler\n",
    "from sklearn.neighbors import KNeighborsClassifier\n",
    "from sklearn.tree import DecisionTreeClassifier\n",
    "from sklearn.ensemble import RandomForestClassifier\n",
    "from sklearn.naive_bayes import GaussianNB\n",
    "from sklearn.svm import SVC\n",
    "from sklearn.model_selection import KFold\n",
    "from sklearn.model_selection import cross_val_score\n",
    "k_fold = KFold(n_splits=10, shuffle=True, random_state=0)\n",
    "import numpy as np\n",
    "\n",
    "import eli5\n",
    "from eli5.sklearn import PermutationImportance\n",
    "# from skopt.space import Real\n",
    "import matplotlib.colors as clt\n",
    "import matplotlib as mpl\n",
    "from matplotlib.ticker import FuncFormatter\n",
    "import warnings\n",
    "warnings.filterwarnings(\"ignore\")\n",
    "import matplotlib.pyplot as plt\n",
    "# from tqdm import tqdm\n",
    "from scipy.stats import kurtosis, skew\n",
    "\n",
    "from sklearn.preprocessing import StandardScaler\n",
    "from sklearn.svm import NuSVR\n",
    "from sklearn.metrics import mean_absolute_error\n",
    "%matplotlib inline\n",
    "from keras.layers import Dense\n",
    "# Change pandas viewing options\n",
    "pd.set_option('display.max_rows', 500)\n",
    "pd.set_option('display.max_columns', 500)\n",
    "pd.set_option('display.width', 1000)\n",
    "import zipfile\n",
    "from keras.models import Sequential\n",
    "# zf = zipfile.ZipFile('train.csv') # having First.csv zipped file.\n",
    "# df = pd.read_csv(zf.open('First.csv'))\n",
    "# zf.namelist()\n",
    "\n",
    "import os\n",
    "# print(os.listdir(\"../input\"))\n",
    "\n",
    "# Any results you write to the current directory are saved as output."
   ]
  },
  {
   "cell_type": "code",
   "execution_count": 131,
   "metadata": {},
   "outputs": [],
   "source": [
    "def gen_features(X):\n",
    "    strain = []\n",
    "    strain.append(X.mean())\n",
    "    strain.append(X.std())\n",
    "    strain.append(X.min())\n",
    "    strain.append(X.max())\n",
    "    strain.append(X.kurtosis())\n",
    "    strain.append(X.skew())\n",
    "    strain.append(X.ptp())\n",
    "    strain.append(X.var())\n",
    "    strain.append(X.mad())\n",
    "    strain.append(np.quantile(X, 0.01))\n",
    "    strain.append(np.quantile(X, 0.05))\n",
    "    strain.append(np.quantile(X, 1.0))\n",
    "\n",
    "    zc=np.fft.fft(X)\n",
    "    realFFT = np.real(zc)\n",
    "    imagFFT = np.imag(zc)\n",
    "    strain.append(realFFT.mean())\n",
    "    strain.append(realFFT.std())\n",
    "    strain.append(realFFT.max())\n",
    "    strain.append(realFFT.min())\n",
    "    strain.append(imagFFT.mean())\n",
    "    strain.append(imagFFT.std())\n",
    "    strain.append(imagFFT.max())\n",
    "    strain.append(imagFFT.min())\n",
    "    X_mean = X.mean()\n",
    "    stress_drop = ((7*X_mean)/(1600))\n",
    "    strain.append(stress_drop)\n",
    "#     for windows in [10, 100, 1000]:\n",
    "#         strain.append(X.rolling(windows).std().dropna().values)\n",
    "#         strain.append(X.rolling(windows).mean().dropna().values)\n",
    "        \n",
    "#         X.loc[seg_id, 'ave_roll_std_' + str(windows)] = x_roll_std.mean()\n",
    "#         X.loc[seg_id, 'std_roll_std_' + str(windows)] = x_roll_std.std()\n",
    "#         X.loc[seg_id, 'max_roll_std_' + str(windows)] = x_roll_std.max()\n",
    "#         X.loc[seg_id, 'min_roll_std_' + str(windows)] = x_roll_std.min()\n",
    "#         X.loc[seg_id, 'q01_roll_std_' + str(windows)] = np.quantile(x_roll_std, 0.01)\n",
    "#         strain.append(np.quantile((X.rolling(windows).std().dropna().values), 0.05))\n",
    "#         X.loc[seg_id, 'q95_roll_std_' + str(windows)] = np.quantile(x_roll_std, 0.95)\n",
    "#         X.loc[seg_id, 'q99_roll_std_' + str(windows)] = np.quantile(x_roll_std, 0.99)\n",
    "#         X.loc[seg_id, 'av_change_abs_roll_std_' + str(windows)] = np.mean(np.diff(x_roll_std))\n",
    "#         X.loc[seg_id, 'av_change_rate_roll_std_' + str(windows)] = np.mean(np.nonzero((np.diff(x_roll_std) / x_roll_std[:-1]))[0])\n",
    "#         X.loc[seg_id, 'abs_max_roll_std_' + str(windows)] = np.abs(x_roll_std).max()\n",
    "    return pd.Series(strain)\n",
    "\n",
    "# final.describe()\n",
    "    "
   ]
  },
  {
   "cell_type": "code",
   "execution_count": 132,
   "metadata": {},
   "outputs": [],
   "source": [
    "train = pd.read_csv('train.csv.zip', iterator=True, chunksize=100_000, dtype={'acoustic_data': np.int16, 'time_to_failure': np.float64})\n",
    "# train = pd.read_csv('train.csv.zip', nrows=10000, dtype={'acoustic_data': np.int16, 'time_to_failure': np.float64})\n"
   ]
  },
  {
   "cell_type": "code",
   "execution_count": 133,
   "metadata": {},
   "outputs": [],
   "source": [
    "\n",
    "X_train1 = pd.DataFrame()\n",
    "y_train1= pd.Series()\n",
    "for df in train:\n",
    "    ch = gen_features(df['acoustic_data'])\n",
    "    X_train1 = X_train1.append(ch, ignore_index=True)\n",
    "    y_train1 = y_train1.append(pd.Series(df['time_to_failure'].values[-1]))"
   ]
  },
  {
   "cell_type": "code",
   "execution_count": 138,
   "metadata": {},
   "outputs": [],
   "source": [
    "X_train, X_test, y_train, y_test = train_test_split(X_train1, y_train1, train_size=0.5, random_state=1234)"
   ]
  },
  {
   "cell_type": "code",
   "execution_count": 139,
   "metadata": {},
   "outputs": [
    {
     "data": {
      "text/plain": [
       "<catboost.core.CatBoostRegressor at 0x72c6b70>"
      ]
     },
     "execution_count": 139,
     "metadata": {},
     "output_type": "execute_result"
    }
   ],
   "source": [
    "# train_pool = Pool(X_train_scaled, y_binary)\n",
    "model=CatBoostRegressor(iterations=10000, depth=3, learning_rate=0.1, loss_function='MAE',boosting_type='Plain')\n",
    "model.fit(X_train, y_train, silent=True)\n"
   ]
  },
  {
   "cell_type": "code",
   "execution_count": 140,
   "metadata": {},
   "outputs": [
    {
     "data": {
      "text/plain": [
       "{'learn': {'MAE': 1.456018684760831}}"
      ]
     },
     "execution_count": 140,
     "metadata": {},
     "output_type": "execute_result"
    }
   ],
   "source": [
    "model.best_score_"
   ]
  },
  {
   "cell_type": "code",
   "execution_count": null,
   "metadata": {},
   "outputs": [],
   "source": []
  },
  {
   "cell_type": "code",
   "execution_count": 141,
   "metadata": {},
   "outputs": [
    {
     "data": {
      "text/plain": [
       "2.1688419869796807"
      ]
     },
     "execution_count": 141,
     "metadata": {},
     "output_type": "execute_result"
    }
   ],
   "source": [
    "\n",
    "y_pred=(model.predict(X_test))\n",
    "mean_absolute_error(y_test, y_pred, sample_weight=None)"
   ]
  },
  {
   "cell_type": "code",
   "execution_count": 142,
   "metadata": {},
   "outputs": [],
   "source": [
    "# submission = pd.read_csv('../input/sample_submission.csv', index_col='seg_id')"
   ]
  },
  {
   "cell_type": "code",
   "execution_count": 143,
   "metadata": {},
   "outputs": [],
   "source": [
    "# X_test = pd.DataFrame(columns=X_train.columns, dtype=np.float64, index=submission.index)\n"
   ]
  },
  {
   "cell_type": "code",
   "execution_count": 144,
   "metadata": {},
   "outputs": [],
   "source": [
    "submission = pd.read_csv('sample_submission.csv', index_col='seg_id')\n",
    "X_test = pd.DataFrame()\n",
    "\n",
    "# prepare test data\n",
    "for seg_id in submission.index:\n",
    "    seg = pd.read_csv('test/' + seg_id + '.csv')\n",
    "    ch = gen_features(seg['acoustic_data'])\n",
    "    X_test = X_test.append(ch, ignore_index=True)\n",
    "\n",
    "# X_test = scaler.transform(X_test)"
   ]
  },
  {
   "cell_type": "code",
   "execution_count": 145,
   "metadata": {},
   "outputs": [],
   "source": [
    "# X_test.shape"
   ]
  },
  {
   "cell_type": "code",
   "execution_count": 146,
   "metadata": {},
   "outputs": [],
   "source": [
    "# for seg_id in X_test.index:\n",
    "#     seg = pd.read_csv('../input/test/' + seg_id + '.csv')\n",
    "    \n",
    "#     x = seg['acoustic_data'].values\n",
    "    \n",
    "#     X_test.loc[seg_id, 'ave'] = x.mean()\n",
    "#     X_test.loc[seg_id, 'std'] = x.std()\n",
    "#     X_test.loc[seg_id, 'max'] = x.max()\n",
    "#     X_test.loc[seg_id, 'min'] = x.min()\n",
    "#     X_test.loc[seg_id, 'cor'] = x.ptp()\n",
    "#     X_test.loc[seg_id, 'var'] = x.var()\n",
    "#     X_test.loc[seg_id, '25%'] = pd.Series(x).quantile(.25)\n",
    "#     X_test.loc[seg_id, '50%'] = pd.Series(x).quantile(.5)\n",
    "#     X_test.loc[seg_id, '75%'] = pd.Series(x).quantile(.75)\n",
    "#     X_test['rol_2']=X_test['ave'].rolling(2).mean()\n",
    "#     X_test['rol_3']=X_test['ave'].rolling(3).mean()\n",
    "#     X_test['rol_4']=X_test['ave'].rolling(4).mean()\n",
    "#     X_test['rol_5']=X_test['ave'].rolling(5).mean()\n",
    "#     X_test['rol_2']=X_test['rol_2'].fillna(X_test['rol_2'].dropna().mean())\n",
    "#     X_test['rol_3']=X_test['rol_2'].fillna(X_test['rol_3'].dropna().mean())\n",
    "#     X_test['rol_4']=X_test['rol_4'].fillna(X_test['rol_4'].dropna().mean())\n",
    "#     X_test['rol_5']=X_test['rol_5'].fillna(X_test['rol_5'].dropna().mean())\n",
    "#     X_test['rol_std_2']=X_test['ave'].rolling(2).std()\n",
    "#     X_test['rol_std_3']=X_test['ave'].rolling(3).std()\n",
    "#     X_test['rol_std_4']=X_test['ave'].rolling(4).std()\n",
    "#     X_test['rol_std_5']=X_test['ave'].rolling(5).std()\n",
    "#     X_test['rol_std_2']=X_test['rol_std_2'].fillna(X_test['rol_std_2'].dropna().mean())\n",
    "#     X_test['rol_std_3']=X_test['rol_std_3'].fillna(X_test['rol_std_3'].dropna().mean())\n",
    "#     X_test['rol_std_4']=X_test['rol_std_4'].fillna(X_test['rol_std_4'].dropna().mean())\n",
    "#     X_test['rol_std_5']=X_test['rol_std_5'].fillna(X_test['rol_std_5'].dropna().mean())"
   ]
  },
  {
   "cell_type": "code",
   "execution_count": 158,
   "metadata": {},
   "outputs": [],
   "source": [
    "# X_test = X_test.reshape(X_test.shape[0], X_test.shape[1], 1)\n",
    "y_hat = model.predict(X_test)"
   ]
  },
  {
   "cell_type": "code",
   "execution_count": null,
   "metadata": {},
   "outputs": [],
   "source": [
    "# X_test_scaled = scaler.transform(X_test)\n",
    "# submission['time_to_failure'] = model.predict(X_test_scaled)\n"
   ]
  },
  {
   "cell_type": "code",
   "execution_count": 159,
   "metadata": {},
   "outputs": [],
   "source": [
    "submission['time_to_failure'] = y_hat\n",
    "submission.to_csv('submission.csv')"
   ]
  },
  {
   "cell_type": "code",
   "execution_count": null,
   "metadata": {},
   "outputs": [],
   "source": [
    "submission.to_csv('../submission.csv')"
   ]
  },
  {
   "cell_type": "code",
   "execution_count": 157,
   "metadata": {},
   "outputs": [],
   "source": [
    "X_train1.columns = ['mean','std', 'min','max','kurt', 'skew','ptp','var','mad','q.01','q.05','q1','Rmean','Rstd','Rmax','Rmin','Imean','Istd','Imax','Imin','stress']\n",
    "X_test.columns = ['mean','std', 'min','max','kurt', 'skew','ptp','var','mad','q.01','q.05','q1','Rmean','Rstd','Rmax','Rmin','Imean','Istd','Imax','Imin','stress']\n"
   ]
  },
  {
   "cell_type": "code",
   "execution_count": 160,
   "metadata": {},
   "outputs": [
    {
     "data": {
      "image/png": "[encoded data removed]",
      "text/plain": [
       "<Figure size 432x288 with 1 Axes>"
      ]
     },
     "metadata": {
      "needs_background": "light"
     },
     "output_type": "display_data"
    }
   ],
   "source": [
    "fold_importance_df=pd.DataFrame()\n",
    "fold_importance_df['Feature']=X_train1.columns\n",
    "feature_importance_df=pd.DataFrame()\n",
    "fold_importance_df[\"importance\"]=model.feature_importances_[:len(X_train1.columns)]\n",
    "feature_importance_df=pd.concat([feature_importance_df, fold_importance_df], axis=0)\n",
    "cols = (feature_importance_df[[\"Feature\", \"importance\"]]\n",
    "        .groupby(\"Feature\")\n",
    "        .mean()\n",
    "        .sort_values(by=\"importance\", ascending=False)[:200].index)\n",
    "best_features = feature_importance_df.loc[feature_importance_df.Feature.isin(cols)]\n",
    "\n",
    "# plt.figure(figsize=(14,26))\n",
    "sns.barplot(x=\"importance\", y=\"Feature\", data=best_features.sort_values(by=\"importance\",ascending=False))\n",
    "plt.title('LightGBM Features (averaged over folds)')\n",
    "plt.tight_layout()\n",
    "plt.savefig('lgbm_importances.png')"
   ]
  },
  {
   "cell_type": "code",
   "execution_count": null,
   "metadata": {},
   "outputs": [],
   "source": [
    "# pd.options.display.precision = 15\n",
    "\n",
    "# submission.head()"
   ]
  },
  {
   "cell_type": "code",
   "execution_count": null,
   "metadata": {},
   "outputs": [],
   "source": []
  }
 ],
 "metadata": {
  "kernelspec": {
   "display_name": "Python 3",
   "language": "python",
   "name": "python3"
  },
  "language_info": {
   "codemirror_mode": {
    "name": "ipython",
    "version": 3
   },
   "file_extension": ".py",
   "mimetype": "text/x-python",
   "name": "python",
   "nbconvert_exporter": "python",
   "pygments_lexer": "ipython3",
   "version": "3.7.1"
  }
 },
 "nbformat": 4,
 "nbformat_minor": 1
}
